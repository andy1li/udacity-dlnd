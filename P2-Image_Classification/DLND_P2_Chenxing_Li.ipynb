{
 "cells": [
  {
   "cell_type": "markdown",
   "metadata": {
    "collapsed": true,
    "deletable": true,
    "editable": true
   },
   "source": [
    "# Image Classification\n",
    "In this project, you'll classify images from the [CIFAR-10 dataset](https://www.cs.toronto.edu/~kriz/cifar.html).  The dataset consists of airplanes, dogs, cats, and other objects. You'll preprocess the images, then train a convolutional neural network on all the samples. The images need to be normalized and the labels need to be one-hot encoded.  You'll get to apply what you learned and build a convolutional, max pooling, dropout, and fully connected layers.  At the end, you'll get to see your neural network's predictions on the sample images.\n",
    "## Get the Data\n",
    "Run the following cell to download the [CIFAR-10 dataset for python](https://www.cs.toronto.edu/~kriz/cifar-10-python.tar.gz)."
   ]
  },
  {
   "cell_type": "code",
   "execution_count": 1,
   "metadata": {
    "collapsed": false,
    "deletable": true,
    "editable": true
   },
   "outputs": [
    {
     "name": "stdout",
     "output_type": "stream",
     "text": [
      "All files found!\n"
     ]
    }
   ],
   "source": [
    "\"\"\"\n",
    "DON'T MODIFY ANYTHING IN THIS CELL THAT IS BELOW THIS LINE\n",
    "\"\"\"\n",
    "from urllib.request import urlretrieve\n",
    "from os.path import isfile, isdir\n",
    "from tqdm import tqdm\n",
    "import problem_unittests as tests\n",
    "import tarfile\n",
    "\n",
    "cifar10_dataset_folder_path = 'cifar-10-batches-py'\n",
    "\n",
    "class DLProgress(tqdm):\n",
    "    last_block = 0\n",
    "\n",
    "    def hook(self, block_num=1, block_size=1, total_size=None):\n",
    "        self.total = total_size\n",
    "        self.update((block_num - self.last_block) * block_size)\n",
    "        self.last_block = block_num\n",
    "\n",
    "if not isfile('cifar-10-python.tar.gz'):\n",
    "    with DLProgress(unit='B', unit_scale=True, miniters=1, desc='CIFAR-10 Dataset') as pbar:\n",
    "        urlretrieve(\n",
    "            'https://www.cs.toronto.edu/~kriz/cifar-10-python.tar.gz',\n",
    "            'cifar-10-python.tar.gz',\n",
    "            pbar.hook)\n",
    "\n",
    "if not isdir(cifar10_dataset_folder_path):\n",
    "    with tarfile.open('cifar-10-python.tar.gz') as tar:\n",
    "        tar.extractall()\n",
    "        tar.close()\n",
    "\n",
    "\n",
    "tests.test_folder_path(cifar10_dataset_folder_path)"
   ]
  },
  {
   "cell_type": "markdown",
   "metadata": {
    "deletable": true,
    "editable": true
   },
   "source": [
    "## Explore the Data\n",
    "The dataset is broken into batches to prevent your machine from running out of memory.  The CIFAR-10 dataset consists of 5 batches, named `data_batch_1`, `data_batch_2`, etc.. Each batch contains the labels and images that are one of the following:\n",
    "* airplane\n",
    "* automobile\n",
    "* bird\n",
    "* cat\n",
    "* deer\n",
    "* dog\n",
    "* frog\n",
    "* horse\n",
    "* ship\n",
    "* truck\n",
    "\n",
    "Understanding a dataset is part of making predictions on the data.  Play around with the code cell below by changing the `batch_id` and `sample_id`. The `batch_id` is the id for a batch (1-5). The `sample_id` is the id for a image and label pair in the batch.\n",
    "\n",
    "Ask yourself \"What are all possible labels?\", \"What is the range of values for the image data?\", \"Are the labels in order or random?\".  Answers to questions like these will help you preprocess the data and end up with better predictions."
   ]
  },
  {
   "cell_type": "code",
   "execution_count": 2,
   "metadata": {
    "collapsed": false,
    "deletable": true,
    "editable": true
   },
   "outputs": [
    {
     "name": "stdout",
     "output_type": "stream",
     "text": [
      "\n",
      "Stats of batch 1:\n",
      "Samples: 10000\n",
      "Label Counts: {0: 1005, 1: 974, 2: 1032, 3: 1016, 4: 999, 5: 937, 6: 1030, 7: 1001, 8: 1025, 9: 981}\n",
      "First 20 Labels: [6, 9, 9, 4, 1, 1, 2, 7, 8, 3, 4, 7, 7, 2, 9, 9, 9, 3, 2, 6]\n",
      "\n",
      "Example of Image 25:\n",
      "Image - Min Value: 30 Max Value: 255\n",
      "Image - Shape: (32, 32, 3)\n",
      "Label - Label Id: 6 Name: frog\n"
     ]
    },
    {
     "data": {
      "image/png": "[encoded data removed]",
      "text/plain": [
       "<matplotlib.figure.Figure at 0x7f06151f6278>"
      ]
     },
     "metadata": {
      "image/png": {
       "height": 250,
       "width": 253
      }
     },
     "output_type": "display_data"
    }
   ],
   "source": [
    "%matplotlib inline\n",
    "%config InlineBackend.figure_format = 'retina'\n",
    "\n",
    "import helper\n",
    "import numpy as np\n",
    "\n",
    "# Explore the dataset\n",
    "batch_id = 1\n",
    "sample_id = 25\n",
    "helper.display_stats(cifar10_dataset_folder_path, batch_id, sample_id)"
   ]
  },
  {
   "cell_type": "markdown",
   "metadata": {
    "deletable": true,
    "editable": true
   },
   "source": [
    "## Implement Preprocess Functions\n",
    "### Normalize\n",
    "In the cell below, implement the `normalize` function to take in image data, `x`, and return it as a normalized Numpy array. The values should be in the range of 0 to 1, inclusive.  The return object should be the same shape as `x`."
   ]
  },
  {
   "cell_type": "code",
   "execution_count": 3,
   "metadata": {
    "collapsed": false,
    "deletable": true,
    "editable": true
   },
   "outputs": [
    {
     "name": "stdout",
     "output_type": "stream",
     "text": [
      "Tests Passed\n"
     ]
    }
   ],
   "source": [
    "def normalize(x):\n",
    "    \"\"\"\n",
    "    Normalize a list of sample image data in the range of 0 to 1\n",
    "    : x: List of image data.  The image shape is (32, 32, 3)\n",
    "    : return: Numpy array of normalize data\n",
    "    \"\"\"\n",
    "    # TODO: Implement Function\n",
    "    return x / 255\n",
    "\n",
    "\n",
    "\"\"\"\n",
    "DON'T MODIFY ANYTHING IN THIS CELL THAT IS BELOW THIS LINE\n",
    "\"\"\"\n",
    "tests.test_normalize(normalize)"
   ]
  },
  {
   "cell_type": "markdown",
   "metadata": {
    "deletable": true,
    "editable": true
   },
   "source": [
    "### One-hot encode\n",
    "Just like the previous code cell, you'll be implementing a function for preprocessing.  This time, you'll implement the `one_hot_encode` function. The input, `x`, are a list of labels.  Implement the function to return the list of labels as One-Hot encoded Numpy array.  The possible values for labels are 0 to 9. The one-hot encoding function should return the same encoding for each value between each call to `one_hot_encode`.  Make sure to save the map of encodings outside the function.\n",
    "\n",
    "Hint: Don't reinvent the wheel."
   ]
  },
  {
   "cell_type": "code",
   "execution_count": 4,
   "metadata": {
    "collapsed": false,
    "deletable": true,
    "editable": true
   },
   "outputs": [
    {
     "name": "stdout",
     "output_type": "stream",
     "text": [
      "Tests Passed\n"
     ]
    }
   ],
   "source": [
    "def one_hot_encode(x):\n",
    "    \"\"\"\n",
    "    One hot encode a list of sample labels. Return a one-hot encoded vector for each label.\n",
    "    : x: List of sample Labels\n",
    "    : return: Numpy array of one-hot encoded labels\n",
    "    \"\"\"\n",
    "    # TODO: Implement Function\n",
    "    one_hot = np.zeros([len(x), 10])\n",
    "    for i, label in enumerate(x):\n",
    "        one_hot[i][label] = 1\n",
    "    return one_hot\n",
    "\n",
    "\"\"\"\n",
    "DON'T MODIFY ANYTHING IN THIS CELL THAT IS BELOW THIS LINE\n",
    "\"\"\"\n",
    "tests.test_one_hot_encode(one_hot_encode)"
   ]
  },
  {
   "cell_type": "markdown",
   "metadata": {
    "deletable": true,
    "editable": true
   },
   "source": [
    "### Randomize Data\n",
    "As you saw from exploring the data above, the order of the samples are randomized.  It doesn't hurt to randomize it again, but you don't need to for this dataset."
   ]
  },
  {
   "cell_type": "markdown",
   "metadata": {
    "deletable": true,
    "editable": true
   },
   "source": [
    "## Preprocess all the data and save it\n",
    "Running the code cell below will preprocess all the CIFAR-10 data and save it to file. The code below also uses 10% of the training data for validation."
   ]
  },
  {
   "cell_type": "code",
   "execution_count": 5,
   "metadata": {
    "collapsed": false,
    "deletable": true,
    "editable": true
   },
   "outputs": [],
   "source": [
    "\"\"\"\n",
    "DON'T MODIFY ANYTHING IN THIS CELL\n",
    "\"\"\"\n",
    "# Preprocess Training, Validation, and Testing Data\n",
    "helper.preprocess_and_save_data(cifar10_dataset_folder_path, normalize, one_hot_encode)"
   ]
  },
  {
   "cell_type": "markdown",
   "metadata": {
    "deletable": true,
    "editable": true
   },
   "source": [
    "# Check Point\n",
    "This is your first checkpoint.  If you ever decide to come back to this notebook or have to restart the notebook, you can start from here.  The preprocessed data has been saved to disk."
   ]
  },
  {
   "cell_type": "code",
   "execution_count": 6,
   "metadata": {
    "collapsed": true,
    "deletable": true,
    "editable": true
   },
   "outputs": [],
   "source": [
    "\"\"\"\n",
    "DON'T MODIFY ANYTHING IN THIS CELL\n",
    "\"\"\"\n",
    "import pickle\n",
    "import problem_unittests as tests\n",
    "import helper\n",
    "\n",
    "# Load the Preprocessed Validation data\n",
    "valid_features, valid_labels = pickle.load(open('preprocess_validation.p', mode='rb'))"
   ]
  },
  {
   "cell_type": "markdown",
   "metadata": {
    "deletable": true,
    "editable": true
   },
   "source": [
    "## Build the network\n",
    "For the neural network, you'll build each layer into a function.  Most of the code you've seen has been outside of functions. To test your code more thoroughly, we require that you put each layer in a function.  This allows us to give you better feedback and test for simple mistakes using our unittests before you submit your project.\n",
    "\n",
    "If you're finding it hard to dedicate enough time for this course a week, we've provided a small shortcut to this part of the project. In the next couple of problems, you'll have the option to use [TensorFlow Layers](https://www.tensorflow.org/api_docs/python/tf/layers) or [TensorFlow Layers (contrib)](https://www.tensorflow.org/api_guides/python/contrib.layers) to build each layer, except \"Convolutional & Max Pooling\" layer.  TF Layers is similar to Keras's and TFLearn's abstraction to layers, so it's easy to pickup.\n",
    "\n",
    "If you would like to get the most of this course, try to solve all the problems without TF Layers.  Let's begin!\n",
    "### Input\n",
    "The neural network needs to read the image data, one-hot encoded labels, and dropout keep probability. Implement the following functions\n",
    "* Implement `neural_net_image_input`\n",
    " * Return a [TF Placeholder](https://www.tensorflow.org/api_docs/python/tf/placeholder)\n",
    " * Set the shape using `image_shape` with batch size set to `None`.\n",
    " * Name the TensorFlow placeholder \"x\" using the TensorFlow `name` parameter in the [TF Placeholder](https://www.tensorflow.org/api_docs/python/tf/placeholder).\n",
    "* Implement `neural_net_label_input`\n",
    " * Return a [TF Placeholder](https://www.tensorflow.org/api_docs/python/tf/placeholder)\n",
    " * Set the shape using `n_classes` with batch size set to `None`.\n",
    " * Name the TensorFlow placeholder \"y\" using the TensorFlow `name` parameter in the [TF Placeholder](https://www.tensorflow.org/api_docs/python/tf/placeholder).\n",
    "* Implement `neural_net_keep_prob_input`\n",
    " * Return a [TF Placeholder](https://www.tensorflow.org/api_docs/python/tf/placeholder) for dropout keep probability.\n",
    " * Name the TensorFlow placeholder \"keep_prob\" using the TensorFlow `name` parameter in the [TF Placeholder](https://www.tensorflow.org/api_docs/python/tf/placeholder).\n",
    "\n",
    "These names will be used at the end of the project to load your saved model.\n",
    "\n",
    "Note: `None` for shapes in TensorFlow allow for a dynamic size."
   ]
  },
  {
   "cell_type": "code",
   "execution_count": 7,
   "metadata": {
    "collapsed": false,
    "deletable": true,
    "editable": true
   },
   "outputs": [
    {
     "name": "stdout",
     "output_type": "stream",
     "text": [
      "Image Input Tests Passed.\n",
      "Label Input Tests Passed.\n",
      "Keep Prob Tests Passed.\n"
     ]
    }
   ],
   "source": [
    "import tensorflow as tf\n",
    "\n",
    "def neural_net_image_input(image_shape):\n",
    "    \"\"\"\n",
    "    Return a Tensor for a bach of image input\n",
    "    : image_shape: Shape of the images\n",
    "    : return: Tensor for image input.\n",
    "    \"\"\"\n",
    "    # TODO: Implement Function\n",
    "    return tf.placeholder(tf.float32, [None, 32, 32, 3], name='x')\n",
    "\n",
    "\n",
    "def neural_net_label_input(n_classes):\n",
    "    \"\"\"\n",
    "    Return a Tensor for a batch of label input\n",
    "    : n_classes: Number of classes\n",
    "    : return: Tensor for label input.\n",
    "    \"\"\"\n",
    "    # TODO: Implement Function\n",
    "    return tf.placeholder(tf.float32, [None, n_classes], name='y')\n",
    "\n",
    "\n",
    "def neural_net_keep_prob_input():\n",
    "    \"\"\"\n",
    "    Return a Tensor for keep probability\n",
    "    : return: Tensor for keep probability.\n",
    "    \"\"\"\n",
    "    # TODO: Implement Function\n",
    "    return tf.placeholder(tf.float32, name='keep_prob')\n",
    "\n",
    "\n",
    "\"\"\"\n",
    "DON'T MODIFY ANYTHING IN THIS CELL THAT IS BELOW THIS LINE\n",
    "\"\"\"\n",
    "tf.reset_default_graph()\n",
    "tests.test_nn_image_inputs(neural_net_image_input)\n",
    "tests.test_nn_label_inputs(neural_net_label_input)\n",
    "tests.test_nn_keep_prob_inputs(neural_net_keep_prob_input)"
   ]
  },
  {
   "cell_type": "markdown",
   "metadata": {
    "deletable": true,
    "editable": true
   },
   "source": [
    "### Convolution and Max Pooling Layer\n",
    "Convolution layers have a lot of success with images. For this code cell, you should implement the function `conv2d_maxpool` to apply convolution then max pooling:\n",
    "* Create the weight and bias using `conv_ksize`, `conv_num_outputs` and the shape of `x_tensor`.\n",
    "* Apply a convolution to `x_tensor` using weight and `conv_strides`.\n",
    " * We recommend you use same padding, but you're welcome to use any padding.\n",
    "* Add bias\n",
    "* Add a nonlinear activation to the convolution.\n",
    "* Apply Max Pooling using `pool_ksize` and `pool_strides`.\n",
    " * We recommend you use same padding, but you're welcome to use any padding.\n",
    "\n",
    "Note: You **can't** use [TensorFlow Layers](https://www.tensorflow.org/api_docs/python/tf/layers) or [TensorFlow Layers (contrib)](https://www.tensorflow.org/api_guides/python/contrib.layers) for this layer.  You're free to use any TensorFlow package for all the other layers."
   ]
  },
  {
   "cell_type": "code",
   "execution_count": 8,
   "metadata": {
    "collapsed": false,
    "deletable": true,
    "editable": true
   },
   "outputs": [
    {
     "name": "stdout",
     "output_type": "stream",
     "text": [
      "Tests Passed\n"
     ]
    }
   ],
   "source": [
    "def conv2d_maxpool(x_tensor, conv_num_outputs, conv_ksize, conv_strides, pool_ksize, pool_strides):\n",
    "    \"\"\"\n",
    "    Apply convolution then max pooling to x_tensor\n",
    "    :param x_tensor: TensorFlow Tensor\n",
    "    :param conv_num_outputs: Number of outputs for the convolutional layer\n",
    "    :param conv_strides: Stride 2-D Tuple for convolution\n",
    "    :param pool_ksize: kernal size 2-D Tuple for pool\n",
    "    :param pool_strides: Stride 2-D Tuple for pool\n",
    "    : return: A tensor that represents convolution and max pooling of x_tensor\n",
    "    \"\"\"\n",
    "    # TODO: Implement Function\n",
    "    #print(x_tensor.get_shape())\n",
    "    channels = x_tensor.get_shape().as_list()[-1]\n",
    "    W = tf.Variable(tf.random_normal([conv_ksize[0], conv_ksize[1], \n",
    "                                      channels, conv_num_outputs], stddev=0.1))\n",
    "    b = tf.Variable(tf.zeros(conv_num_outputs))\n",
    "    \n",
    "    x = tf.nn.conv2d(x_tensor, W, \n",
    "                     strides=[1, conv_strides[0], conv_strides[1], 1], \n",
    "                     padding='SAME')\n",
    "    x = tf.nn.bias_add(x, b)\n",
    "    x = tf.nn.relu(x)\n",
    "    \n",
    "    return tf.nn.max_pool(x, \n",
    "                          ksize=[1, pool_ksize[0], pool_ksize[1], 1],\n",
    "                          strides=[1, pool_strides[0], pool_strides[1], 1],\n",
    "                          padding='SAME')\n",
    "\n",
    "\n",
    "\"\"\"\n",
    "DON'T MODIFY ANYTHING IN THIS CELL THAT IS BELOW THIS LINE\n",
    "\"\"\"\n",
    "tests.test_con_pool(conv2d_maxpool)"
   ]
  },
  {
   "cell_type": "markdown",
   "metadata": {
    "deletable": true,
    "editable": true
   },
   "source": [
    "### Flatten Layer\n",
    "Implement the `flatten` function to change the dimension of `x_tensor` from a 4-D tensor to a 2-D tensor.  The output should be the shape (*Batch Size*, *Flattened Image Size*). You can use [TensorFlow Layers](https://www.tensorflow.org/api_docs/python/tf/layers) or [TensorFlow Layers (contrib)](https://www.tensorflow.org/api_guides/python/contrib.layers) for this layer."
   ]
  },
  {
   "cell_type": "code",
   "execution_count": 9,
   "metadata": {
    "collapsed": false,
    "deletable": true,
    "editable": true
   },
   "outputs": [
    {
     "name": "stdout",
     "output_type": "stream",
     "text": [
      "Tests Passed\n"
     ]
    }
   ],
   "source": [
    "def flatten(x_tensor):\n",
    "    \"\"\"\n",
    "    Flatten x_tensor to (Batch Size, Flattened Image Size)\n",
    "    : x_tensor: A tensor of size (Batch Size, ...), where ... are the image dimensions.\n",
    "    : return: A tensor of size (Batch Size, Flattened Image Size).\n",
    "    \"\"\"\n",
    "    # TODO: Implement Function\n",
    "    _, h, w, d = x_tensor.get_shape().as_list()\n",
    "    return tf.reshape(x_tensor, [-1, h * w * d])\n",
    "\n",
    "\"\"\"\n",
    "DON'T MODIFY ANYTHING IN THIS CELL THAT IS BELOW THIS LINE\n",
    "\"\"\"\n",
    "tests.test_flatten(flatten)"
   ]
  },
  {
   "cell_type": "markdown",
   "metadata": {
    "deletable": true,
    "editable": true
   },
   "source": [
    "### Fully-Connected Layer\n",
    "Implement the `fully_conn` function to apply a fully connected layer to `x_tensor` with the shape (*Batch Size*, *num_outputs*). You can use [TensorFlow Layers](https://www.tensorflow.org/api_docs/python/tf/layers) or [TensorFlow Layers (contrib)](https://www.tensorflow.org/api_guides/python/contrib.layers) for this layer."
   ]
  },
  {
   "cell_type": "code",
   "execution_count": 10,
   "metadata": {
    "collapsed": false,
    "deletable": true,
    "editable": true
   },
   "outputs": [
    {
     "name": "stdout",
     "output_type": "stream",
     "text": [
      "Tests Passed\n"
     ]
    }
   ],
   "source": [
    "def fully_conn(x_tensor, num_outputs):\n",
    "    \"\"\"\n",
    "    Apply a fully connected layer to x_tensor using weight and bias\n",
    "    : x_tensor: A 2-D tensor where the first dimension is batch size.\n",
    "    : num_outputs: The number of output that the new tensor should be.\n",
    "    : return: A 2-D tensor where the second dimension is num_outputs.\n",
    "    \"\"\"\n",
    "    # TODO: Implement Function\n",
    "#     return tf.layers.dense(x_tensor, num_outputs)\n",
    "    num_input = x_tensor.get_shape().as_list()[-1]\n",
    "    W = tf.Variable(tf.random_normal([num_input, num_outputs], stddev=0.1))\n",
    "    b = tf.Variable(tf.zeros(num_outputs))\n",
    "    x = tf.add(tf.matmul(x_tensor, W), b)\n",
    "    return tf.nn.relu(x)\n",
    "\n",
    "\n",
    "\"\"\"\n",
    "DON'T MODIFY ANYTHING IN THIS CELL THAT IS BELOW THIS LINE\n",
    "\"\"\"\n",
    "tests.test_fully_conn(fully_conn)"
   ]
  },
  {
   "cell_type": "markdown",
   "metadata": {
    "deletable": true,
    "editable": true
   },
   "source": [
    "### Output Layer\n",
    "Implement the `output` function to apply a fully connected layer to `x_tensor` with the shape (*Batch Size*, *num_outputs*). You can use [TensorFlow Layers](https://www.tensorflow.org/api_docs/python/tf/layers) or [TensorFlow Layers (contrib)](https://www.tensorflow.org/api_guides/python/contrib.layers) for this layer.\n",
    "\n",
    "Note: Activation, softmax, or cross entropy shouldn't be applied to this."
   ]
  },
  {
   "cell_type": "code",
   "execution_count": 11,
   "metadata": {
    "collapsed": false,
    "deletable": true,
    "editable": true
   },
   "outputs": [
    {
     "name": "stdout",
     "output_type": "stream",
     "text": [
      "Tests Passed\n"
     ]
    }
   ],
   "source": [
    "def output(x_tensor, num_outputs):\n",
    "    \"\"\"\n",
    "    Apply a output layer to x_tensor using weight and bias\n",
    "    : x_tensor: A 2-D tensor where the first dimension is batch size.\n",
    "    : num_outputs: The number of output that the new tensor should be.\n",
    "    : return: A 2-D tensor where the second dimension is num_outputs.\n",
    "    \"\"\"\n",
    "    # TODO: Implement Function\n",
    "    num_input = x_tensor.get_shape().as_list()[-1]\n",
    "    W = tf.Variable(tf.random_normal([num_input, num_outputs], stddev=0.1))\n",
    "    b = tf.Variable(tf.zeros(num_outputs))\n",
    "    return tf.add(tf.matmul(x_tensor, W), b)\n",
    "\n",
    "\"\"\"\n",
    "DON'T MODIFY ANYTHING IN THIS CELL THAT IS BELOW THIS LINE\n",
    "\"\"\"\n",
    "tests.test_output(output)"
   ]
  },
  {
   "cell_type": "markdown",
   "metadata": {
    "deletable": true,
    "editable": true
   },
   "source": [
    "### Create Convolutional Model\n",
    "Implement the function `conv_net` to create a convolutional neural network model. The function takes in a batch of images, `x`, and outputs logits.  Use the layers you created above to create this model:\n",
    "\n",
    "* Apply 1, 2, or 3 Convolution and Max Pool layers\n",
    "* Apply a Flatten Layer\n",
    "* Apply 1, 2, or 3 Fully Connected Layers\n",
    "* Apply an Output Layer\n",
    "* Return the output\n",
    "* Apply [TensorFlow's Dropout](https://www.tensorflow.org/api_docs/python/tf/nn/dropout) to one or more layers in the model using `keep_prob`. "
   ]
  },
  {
   "cell_type": "code",
   "execution_count": 12,
   "metadata": {
    "collapsed": false,
    "deletable": true,
    "editable": true
   },
   "outputs": [
    {
     "name": "stdout",
     "output_type": "stream",
     "text": [
      "Tensor(\"MaxPool_1:0\", shape=(?, 8, 8, 32), dtype=float32)\n",
      "Tensor(\"Reshape:0\", shape=(?, 2048), dtype=float32)\n",
      "Tensor(\"MaxPool_3:0\", shape=(?, 8, 8, 32), dtype=float32)\n",
      "Tensor(\"Reshape_4:0\", shape=(?, 2048), dtype=float32)\n",
      "Neural Network Built!\n"
     ]
    }
   ],
   "source": [
    "def conv_net(x, keep_prob):\n",
    "    \"\"\"\n",
    "    Create a convolutional neural network model\n",
    "    : x: Placeholder tensor that holds image data.\n",
    "    : keep_prob: Placeholder tensor that hold dropout keep probability.\n",
    "    : return: Tensor that represents logits\n",
    "    \"\"\"\n",
    "    # TODO: Apply 1, 2, or 3 Convolution and Max Pool layers\n",
    "    #    Play around with different number of outputs, kernel size and stride\n",
    "    # Function Definition from Above:\n",
    "    #    conv2d_maxpool(x_tensor, conv_num_outputs, conv_ksize, conv_strides, pool_ksize, pool_strides)\n",
    "    conv1 = conv2d_maxpool(x, conv_num_outputs=16, \n",
    "                           conv_ksize=(8, 8), conv_strides=(1, 1), \n",
    "                           pool_ksize=(2, 2), pool_strides=(2, 2))\n",
    "    conv2 = conv2d_maxpool(conv1, conv_num_outputs=32, \n",
    "                           conv_ksize=(4, 4), conv_strides=(1, 1), \n",
    "                           pool_ksize=(2, 2), pool_strides=(2, 2))\n",
    "    print(conv2)\n",
    "    \n",
    "    # TODO: Apply a Flatten Layer\n",
    "    # Function Definition from Above:\n",
    "    #   flatten(x_tensor)\n",
    "    flattened = flatten(conv2)\n",
    "    print(flattened)\n",
    "\n",
    "    # TODO: Apply 1, 2, or 3 Fully Connected Layers\n",
    "    #    Play around with different number of outputs\n",
    "    # Function Definition from Above:\n",
    "    #   fully_conn(x_tensor, num_outputs)\n",
    "    fc1 = fully_conn(flattened, 512)\n",
    "    fc2 = tf.nn.dropout(fc1, keep_prob)\n",
    "    \n",
    "    # TODO: Apply an Output Layer\n",
    "    #    Set this to the number of classes\n",
    "    # Function Definition from Above:\n",
    "    #   output(x_tensor, num_outputs)\n",
    "    \n",
    "    # TODO: return output\n",
    "    return output(fc2, 10)\n",
    "\n",
    "\n",
    "\"\"\"\n",
    "DON'T MODIFY ANYTHING IN THIS CELL THAT IS BELOW THIS LINE\n",
    "\"\"\"\n",
    "\n",
    "##############################\n",
    "## Build the Neural Network ##\n",
    "##############################\n",
    "\n",
    "# Remove previous weights, bias, inputs, etc..\n",
    "tf.reset_default_graph()\n",
    "\n",
    "# Inputs\n",
    "x = neural_net_image_input((32, 32, 3))\n",
    "y = neural_net_label_input(10)\n",
    "keep_prob = neural_net_keep_prob_input()\n",
    "\n",
    "# Model\n",
    "logits = conv_net(x, keep_prob)\n",
    "\n",
    "# Name logits Tensor, so that is can be loaded from disk after training\n",
    "logits = tf.identity(logits, name='logits')\n",
    "\n",
    "# Loss and Optimizer\n",
    "cost = tf.reduce_mean(tf.nn.softmax_cross_entropy_with_logits(logits=logits, labels=y))\n",
    "optimizer = tf.train.AdamOptimizer().minimize(cost)\n",
    "\n",
    "# Accuracy\n",
    "correct_pred = tf.equal(tf.argmax(logits, 1), tf.argmax(y, 1))\n",
    "accuracy = tf.reduce_mean(tf.cast(correct_pred, tf.float32), name='accuracy')\n",
    "\n",
    "tests.test_conv_net(conv_net)"
   ]
  },
  {
   "cell_type": "markdown",
   "metadata": {
    "deletable": true,
    "editable": true
   },
   "source": [
    "## Train the Neural Network\n",
    "### Single Optimization\n",
    "Implement the function `train_neural_network` to do a single optimization.  The optimization should use `optimizer` to optimize in `session` with a `feed_dict` of the following:\n",
    "* `x` for image input\n",
    "* `y` for labels\n",
    "* `keep_prob` for keep probability for dropout\n",
    "\n",
    "This function will be called for each batch, so `tf.global_variables_initializer()` has already been called.\n",
    "\n",
    "Note: Nothing needs to be returned. This function is only optimizing the neural network."
   ]
  },
  {
   "cell_type": "code",
   "execution_count": 13,
   "metadata": {
    "collapsed": false,
    "deletable": true,
    "editable": true
   },
   "outputs": [
    {
     "name": "stdout",
     "output_type": "stream",
     "text": [
      "Tests Passed\n"
     ]
    }
   ],
   "source": [
    "def train_neural_network(session, optimizer, keep_probability, feature_batch, label_batch):\n",
    "    \"\"\"\n",
    "    Optimize the session on a batch of images and labels\n",
    "    : session: Current TensorFlow session\n",
    "    : optimizer: TensorFlow optimizer function\n",
    "    : keep_probability: keep probability\n",
    "    : feature_batch: Batch of Numpy image data\n",
    "    : label_batch: Batch of Numpy label data\n",
    "    \"\"\"\n",
    "    # TODO: Implement Function\n",
    "    session.run(optimizer, feed_dict={x: feature_batch, y: label_batch,\n",
    "                                      keep_prob: keep_probability})\n",
    "\n",
    "\"\"\"\n",
    "DON'T MODIFY ANYTHING IN THIS CELL THAT IS BELOW THIS LINE\n",
    "\"\"\"\n",
    "tests.test_train_nn(train_neural_network)"
   ]
  },
  {
   "cell_type": "markdown",
   "metadata": {
    "deletable": true,
    "editable": true
   },
   "source": [
    "### Show Stats\n",
    "Implement the function `print_stats` to print loss and validation accuracy.  Use the global variables `valid_features` and `valid_labels` to calculate validation accuracy.  Use a keep probability of `1.0` to calculate the loss and validation accuracy."
   ]
  },
  {
   "cell_type": "code",
   "execution_count": 14,
   "metadata": {
    "collapsed": false,
    "deletable": true,
    "editable": true
   },
   "outputs": [],
   "source": [
    "def print_stats(session, feature_batch, label_batch, cost, accuracy):\n",
    "    \"\"\"\n",
    "    Print information about loss and validation accuracy\n",
    "    : session: Current TensorFlow session\n",
    "    : feature_batch: Batch of Numpy image data\n",
    "    : label_batch: Batch of Numpy label data\n",
    "    : cost: TensorFlow cost function\n",
    "    : accuracy: TensorFlow accuracy function\n",
    "    \"\"\"\n",
    "    # TODO: Implement Function\n",
    "    loss = sess.run(cost, feed_dict={x: feature_batch,\n",
    "                                     y: label_batch,\n",
    "                                     keep_prob: 1.0})\n",
    "    validation_accuracy = sess.run(accuracy, feed_dict={x: valid_features,\n",
    "                                                        y: valid_labels,\n",
    "                                                        keep_prob: 1.0})\n",
    "    print('loss = {:.3f}, validation accuracy = {:.3f}'.format(loss, validation_accuracy))"
   ]
  },
  {
   "cell_type": "markdown",
   "metadata": {
    "deletable": true,
    "editable": true
   },
   "source": [
    "### Hyperparameters\n",
    "Tune the following parameters:\n",
    "* Set `epochs` to the number of iterations until the network stops learning or start overfitting\n",
    "* Set `batch_size` to the highest number that your machine has memory for.  Most people set them to common sizes of memory:\n",
    " * 64\n",
    " * 128\n",
    " * 256\n",
    " * ...\n",
    "* Set `keep_probability` to the probability of keeping a node using dropout"
   ]
  },
  {
   "cell_type": "code",
   "execution_count": 15,
   "metadata": {
    "collapsed": true,
    "deletable": true,
    "editable": true
   },
   "outputs": [],
   "source": [
    "# TODO: Tune Parameters\n",
    "epochs = 100\n",
    "batch_size = 2048\n",
    "keep_probability = .5"
   ]
  },
  {
   "cell_type": "markdown",
   "metadata": {
    "deletable": true,
    "editable": true
   },
   "source": [
    "### Train on a Single CIFAR-10 Batch\n",
    "Instead of training the neural network on all the CIFAR-10 batches of data, let's use a single batch. This should save time while you iterate on the model to get a better accuracy.  Once the final validation accuracy is 50% or greater, run the model on all the data in the next section."
   ]
  },
  {
   "cell_type": "code",
   "execution_count": 16,
   "metadata": {
    "collapsed": false,
    "deletable": true,
    "editable": true
   },
   "outputs": [
    {
     "name": "stdout",
     "output_type": "stream",
     "text": [
      "Checking the Training on a Single Bat ch...\n",
      "Epoch  1, CIFAR-10 Batch 1:  loss = 2.625, validation accuracy = 0.142\n",
      "Epoch  2, CIFAR-10 Batch 1:  loss = 2.226, validation accuracy = 0.157\n",
      "Epoch  3, CIFAR-10 Batch 1:  loss = 2.126, validation accuracy = 0.215\n",
      "Epoch  4, CIFAR-10 Batch 1:  loss = 2.049, validation accuracy = 0.258\n",
      "Epoch  5, CIFAR-10 Batch 1:  loss = 1.963, validation accuracy = 0.296\n",
      "Epoch  6, CIFAR-10 Batch 1:  loss = 1.867, validation accuracy = 0.327\n",
      "Epoch  7, CIFAR-10 Batch 1:  loss = 1.773, validation accuracy = 0.360\n",
      "Epoch  8, CIFAR-10 Batch 1:  loss = 1.663, validation accuracy = 0.381\n",
      "Epoch  9, CIFAR-10 Batch 1:  loss = 1.560, validation accuracy = 0.399\n",
      "Epoch 10, CIFAR-10 Batch 1:  loss = 1.476, validation accuracy = 0.412\n",
      "Epoch 11, CIFAR-10 Batch 1:  loss = 1.390, validation accuracy = 0.427\n",
      "Epoch 12, CIFAR-10 Batch 1:  loss = 1.312, validation accuracy = 0.439\n",
      "Epoch 13, CIFAR-10 Batch 1:  loss = 1.245, validation accuracy = 0.449\n",
      "Epoch 14, CIFAR-10 Batch 1:  loss = 1.177, validation accuracy = 0.463\n",
      "Epoch 15, CIFAR-10 Batch 1:  loss = 1.112, validation accuracy = 0.471\n",
      "Epoch 16, CIFAR-10 Batch 1:  loss = 1.049, validation accuracy = 0.474\n",
      "Epoch 17, CIFAR-10 Batch 1:  loss = 0.999, validation accuracy = 0.487\n",
      "Epoch 18, CIFAR-10 Batch 1:  loss = 0.940, validation accuracy = 0.489\n",
      "Epoch 19, CIFAR-10 Batch 1:  loss = 0.884, validation accuracy = 0.493\n",
      "Epoch 20, CIFAR-10 Batch 1:  loss = 0.838, validation accuracy = 0.504\n",
      "Epoch 21, CIFAR-10 Batch 1:  loss = 0.794, validation accuracy = 0.508\n",
      "Epoch 22, CIFAR-10 Batch 1:  loss = 0.747, validation accuracy = 0.508\n",
      "Epoch 23, CIFAR-10 Batch 1:  loss = 0.708, validation accuracy = 0.513\n",
      "Epoch 24, CIFAR-10 Batch 1:  loss = 0.668, validation accuracy = 0.519\n",
      "Epoch 25, CIFAR-10 Batch 1:  loss = 0.629, validation accuracy = 0.520\n",
      "Epoch 26, CIFAR-10 Batch 1:  loss = 0.586, validation accuracy = 0.515\n",
      "Epoch 27, CIFAR-10 Batch 1:  loss = 0.559, validation accuracy = 0.519\n",
      "Epoch 28, CIFAR-10 Batch 1:  loss = 0.526, validation accuracy = 0.521\n",
      "Epoch 29, CIFAR-10 Batch 1:  loss = 0.489, validation accuracy = 0.524\n",
      "Epoch 30, CIFAR-10 Batch 1:  loss = 0.464, validation accuracy = 0.524\n",
      "Epoch 31, CIFAR-10 Batch 1:  loss = 0.441, validation accuracy = 0.530\n",
      "Epoch 32, CIFAR-10 Batch 1:  loss = 0.416, validation accuracy = 0.523\n",
      "Epoch 33, CIFAR-10 Batch 1:  loss = 0.395, validation accuracy = 0.531\n",
      "Epoch 34, CIFAR-10 Batch 1:  loss = 0.378, validation accuracy = 0.522\n",
      "Epoch 35, CIFAR-10 Batch 1:  loss = 0.374, validation accuracy = 0.516\n",
      "Epoch 36, CIFAR-10 Batch 1:  loss = 0.344, validation accuracy = 0.517\n",
      "Epoch 37, CIFAR-10 Batch 1:  loss = 0.339, validation accuracy = 0.526\n",
      "Epoch 38, CIFAR-10 Batch 1:  loss = 0.330, validation accuracy = 0.526\n",
      "Epoch 39, CIFAR-10 Batch 1:  loss = 0.287, validation accuracy = 0.532\n",
      "Epoch 40, CIFAR-10 Batch 1:  loss = 0.257, validation accuracy = 0.536\n",
      "Epoch 41, CIFAR-10 Batch 1:  loss = 0.253, validation accuracy = 0.540\n",
      "Epoch 42, CIFAR-10 Batch 1:  loss = 0.247, validation accuracy = 0.533\n",
      "Epoch 43, CIFAR-10 Batch 1:  loss = 0.225, validation accuracy = 0.541\n",
      "Epoch 44, CIFAR-10 Batch 1:  loss = 0.207, validation accuracy = 0.538\n",
      "Epoch 45, CIFAR-10 Batch 1:  loss = 0.198, validation accuracy = 0.535\n",
      "Epoch 46, CIFAR-10 Batch 1:  loss = 0.185, validation accuracy = 0.542\n",
      "Epoch 47, CIFAR-10 Batch 1:  loss = 0.181, validation accuracy = 0.541\n",
      "Epoch 48, CIFAR-10 Batch 1:  loss = 0.167, validation accuracy = 0.540\n",
      "Epoch 49, CIFAR-10 Batch 1:  loss = 0.159, validation accuracy = 0.549\n",
      "Epoch 50, CIFAR-10 Batch 1:  loss = 0.150, validation accuracy = 0.544\n",
      "Epoch 51, CIFAR-10 Batch 1:  loss = 0.153, validation accuracy = 0.538\n",
      "Epoch 52, CIFAR-10 Batch 1:  loss = 0.181, validation accuracy = 0.514\n",
      "Epoch 53, CIFAR-10 Batch 1:  loss = 0.229, validation accuracy = 0.503\n",
      "Epoch 54, CIFAR-10 Batch 1:  loss = 0.149, validation accuracy = 0.548\n",
      "Epoch 55, CIFAR-10 Batch 1:  loss = 0.165, validation accuracy = 0.532\n",
      "Epoch 56, CIFAR-10 Batch 1:  loss = 0.121, validation accuracy = 0.544\n",
      "Epoch 57, CIFAR-10 Batch 1:  loss = 0.111, validation accuracy = 0.548\n",
      "Epoch 58, CIFAR-10 Batch 1:  loss = 0.108, validation accuracy = 0.538\n",
      "Epoch 59, CIFAR-10 Batch 1:  loss = 0.098, validation accuracy = 0.549\n",
      "Epoch 60, CIFAR-10 Batch 1:  loss = 0.090, validation accuracy = 0.545\n",
      "Epoch 61, CIFAR-10 Batch 1:  loss = 0.088, validation accuracy = 0.545\n",
      "Epoch 62, CIFAR-10 Batch 1:  loss = 0.079, validation accuracy = 0.544\n",
      "Epoch 63, CIFAR-10 Batch 1:  loss = 0.076, validation accuracy = 0.548\n",
      "Epoch 64, CIFAR-10 Batch 1:  loss = 0.071, validation accuracy = 0.549\n",
      "Epoch 65, CIFAR-10 Batch 1:  loss = 0.066, validation accuracy = 0.550\n",
      "Epoch 66, CIFAR-10 Batch 1:  loss = 0.064, validation accuracy = 0.550\n",
      "Epoch 67, CIFAR-10 Batch 1:  loss = 0.061, validation accuracy = 0.548\n",
      "Epoch 68, CIFAR-10 Batch 1:  loss = 0.060, validation accuracy = 0.552\n",
      "Epoch 69, CIFAR-10 Batch 1:  loss = 0.058, validation accuracy = 0.547\n",
      "Epoch 70, CIFAR-10 Batch 1:  loss = 0.056, validation accuracy = 0.547\n",
      "Epoch 71, CIFAR-10 Batch 1:  loss = 0.051, validation accuracy = 0.554\n",
      "Epoch 72, CIFAR-10 Batch 1:  loss = 0.049, validation accuracy = 0.552\n",
      "Epoch 73, CIFAR-10 Batch 1:  loss = 0.047, validation accuracy = 0.553\n",
      "Epoch 74, CIFAR-10 Batch 1:  loss = 0.047, validation accuracy = 0.552\n",
      "Epoch 75, CIFAR-10 Batch 1:  loss = 0.047, validation accuracy = 0.549\n",
      "Epoch 76, CIFAR-10 Batch 1:  loss = 0.042, validation accuracy = 0.551\n",
      "Epoch 77, CIFAR-10 Batch 1:  loss = 0.041, validation accuracy = 0.550\n",
      "Epoch 78, CIFAR-10 Batch 1:  loss = 0.039, validation accuracy = 0.550\n",
      "Epoch 79, CIFAR-10 Batch 1:  loss = 0.036, validation accuracy = 0.552\n",
      "Epoch 80, CIFAR-10 Batch 1:  loss = 0.035, validation accuracy = 0.551\n",
      "Epoch 81, CIFAR-10 Batch 1:  loss = 0.034, validation accuracy = 0.553\n",
      "Epoch 82, CIFAR-10 Batch 1:  loss = 0.035, validation accuracy = 0.548\n",
      "Epoch 83, CIFAR-10 Batch 1:  loss = 0.033, validation accuracy = 0.542\n",
      "Epoch 84, CIFAR-10 Batch 1:  loss = 0.030, validation accuracy = 0.553\n",
      "Epoch 85, CIFAR-10 Batch 1:  loss = 0.029, validation accuracy = 0.552\n",
      "Epoch 86, CIFAR-10 Batch 1:  loss = 0.027, validation accuracy = 0.550\n",
      "Epoch 87, CIFAR-10 Batch 1:  loss = 0.026, validation accuracy = 0.546\n",
      "Epoch 88, CIFAR-10 Batch 1:  loss = 0.026, validation accuracy = 0.553\n",
      "Epoch 89, CIFAR-10 Batch 1:  loss = 0.025, validation accuracy = 0.545\n",
      "Epoch 90, CIFAR-10 Batch 1:  loss = 0.024, validation accuracy = 0.546\n",
      "Epoch 91, CIFAR-10 Batch 1:  loss = 0.023, validation accuracy = 0.552\n",
      "Epoch 92, CIFAR-10 Batch 1:  loss = 0.021, validation accuracy = 0.551\n",
      "Epoch 93, CIFAR-10 Batch 1:  loss = 0.021, validation accuracy = 0.548\n",
      "Epoch 94, CIFAR-10 Batch 1:  loss = 0.020, validation accuracy = 0.551\n",
      "Epoch 95, CIFAR-10 Batch 1:  loss = 0.019, validation accuracy = 0.553\n",
      "Epoch 96, CIFAR-10 Batch 1:  loss = 0.018, validation accuracy = 0.549\n",
      "Epoch 97, CIFAR-10 Batch 1:  loss = 0.017, validation accuracy = 0.552\n",
      "Epoch 98, CIFAR-10 Batch 1:  loss = 0.016, validation accuracy = 0.556\n",
      "Epoch 99, CIFAR-10 Batch 1:  loss = 0.016, validation accuracy = 0.552\n",
      "Epoch 100, CIFAR-10 Batch 1:  loss = 0.016, validation accuracy = 0.554\n"
     ]
    }
   ],
   "source": [
    "\"\"\"\n",
    "DON'T MODIFY ANYTHING IN THIS CELL\n",
    "\"\"\"\n",
    "print('Checking the Training on a Single Bat ch...')\n",
    "with tf.Session() as sess:\n",
    "    # Initializing the variablesii\n",
    "    sess.run(tf.global_variables_initializer())\n",
    "    \n",
    "    # Training cycle\n",
    "    for epoch in range(epochs):\n",
    "        batch_i = 1\n",
    "        for batch_features, batch_labels in helper.load_preprocess_training_batch(batch_i, batch_size):\n",
    "            train_neural_network(sess, optimizer, keep_probability, batch_features, batch_labels)\n",
    "        print('Epoch {:2}, CIFAR-10 Batch {}:  '.format(epoch + 1, batch_i), end='')\n",
    "        print_stats(sess, batch_features, batch_labels, cost, accuracy)"
   ]
  },
  {
   "cell_type": "markdown",
   "metadata": {
    "deletable": true,
    "editable": true
   },
   "source": [
    "### Fully Train the Model\n",
    "Now that you got a good accuracy with a single CIFAR-10 batch, try it with all five batches."
   ]
  },
  {
   "cell_type": "code",
   "execution_count": 17,
   "metadata": {
    "collapsed": false,
    "deletable": true,
    "editable": true
   },
   "outputs": [
    {
     "name": "stdout",
     "output_type": "stream",
     "text": [
      "Training...\n",
      "Epoch  1, CIFAR-10 Batch 1:  loss = 2.389, validation accuracy = 0.174\n",
      "Epoch  1, CIFAR-10 Batch 2:  loss = 2.227, validation accuracy = 0.190\n",
      "Epoch  1, CIFAR-10 Batch 3:  loss = 2.158, validation accuracy = 0.240\n",
      "Epoch  1, CIFAR-10 Batch 4:  loss = 2.055, validation accuracy = 0.271\n",
      "Epoch  1, CIFAR-10 Batch 5:  loss = 1.998, validation accuracy = 0.306\n",
      "Epoch  2, CIFAR-10 Batch 1:  loss = 1.907, validation accuracy = 0.334\n",
      "Epoch  2, CIFAR-10 Batch 2:  loss = 1.847, validation accuracy = 0.359\n",
      "Epoch  2, CIFAR-10 Batch 3:  loss = 1.755, validation accuracy = 0.366\n",
      "Epoch  2, CIFAR-10 Batch 4:  loss = 1.714, validation accuracy = 0.377\n",
      "Epoch  2, CIFAR-10 Batch 5:  loss = 1.701, validation accuracy = 0.406\n",
      "Epoch  3, CIFAR-10 Batch 1:  loss = 1.624, validation accuracy = 0.420\n",
      "Epoch  3, CIFAR-10 Batch 2:  loss = 1.589, validation accuracy = 0.428\n",
      "Epoch  3, CIFAR-10 Batch 3:  loss = 1.517, validation accuracy = 0.447\n",
      "Epoch  3, CIFAR-10 Batch 4:  loss = 1.484, validation accuracy = 0.450\n",
      "Epoch  3, CIFAR-10 Batch 5:  loss = 1.488, validation accuracy = 0.469\n",
      "Epoch  4, CIFAR-10 Batch 1:  loss = 1.426, validation accuracy = 0.476\n",
      "Epoch  4, CIFAR-10 Batch 2:  loss = 1.421, validation accuracy = 0.477\n",
      "Epoch  4, CIFAR-10 Batch 3:  loss = 1.372, validation accuracy = 0.484\n",
      "Epoch  4, CIFAR-10 Batch 4:  loss = 1.350, validation accuracy = 0.486\n",
      "Epoch  4, CIFAR-10 Batch 5:  loss = 1.354, validation accuracy = 0.496\n",
      "Epoch  5, CIFAR-10 Batch 1:  loss = 1.310, validation accuracy = 0.503\n",
      "Epoch  5, CIFAR-10 Batch 2:  loss = 1.308, validation accuracy = 0.506\n",
      "Epoch  5, CIFAR-10 Batch 3:  loss = 1.274, validation accuracy = 0.505\n",
      "Epoch  5, CIFAR-10 Batch 4:  loss = 1.257, validation accuracy = 0.506\n",
      "Epoch  5, CIFAR-10 Batch 5:  loss = 1.264, validation accuracy = 0.516\n",
      "Epoch  6, CIFAR-10 Batch 1:  loss = 1.223, validation accuracy = 0.513\n",
      "Epoch  6, CIFAR-10 Batch 2:  loss = 1.228, validation accuracy = 0.522\n",
      "Epoch  6, CIFAR-10 Batch 3:  loss = 1.193, validation accuracy = 0.531\n",
      "Epoch  6, CIFAR-10 Batch 4:  loss = 1.180, validation accuracy = 0.528\n",
      "Epoch  6, CIFAR-10 Batch 5:  loss = 1.179, validation accuracy = 0.540\n",
      "Epoch  7, CIFAR-10 Batch 1:  loss = 1.151, validation accuracy = 0.540\n",
      "Epoch  7, CIFAR-10 Batch 2:  loss = 1.166, validation accuracy = 0.530\n",
      "Epoch  7, CIFAR-10 Batch 3:  loss = 1.118, validation accuracy = 0.539\n",
      "Epoch  7, CIFAR-10 Batch 4:  loss = 1.114, validation accuracy = 0.532\n",
      "Epoch  7, CIFAR-10 Batch 5:  loss = 1.112, validation accuracy = 0.548\n",
      "Epoch  8, CIFAR-10 Batch 1:  loss = 1.092, validation accuracy = 0.549\n",
      "Epoch  8, CIFAR-10 Batch 2:  loss = 1.097, validation accuracy = 0.547\n",
      "Epoch  8, CIFAR-10 Batch 3:  loss = 1.052, validation accuracy = 0.548\n",
      "Epoch  8, CIFAR-10 Batch 4:  loss = 1.038, validation accuracy = 0.551\n",
      "Epoch  8, CIFAR-10 Batch 5:  loss = 1.047, validation accuracy = 0.557\n",
      "Epoch  9, CIFAR-10 Batch 1:  loss = 1.041, validation accuracy = 0.557\n",
      "Epoch  9, CIFAR-10 Batch 2:  loss = 1.042, validation accuracy = 0.555\n",
      "Epoch  9, CIFAR-10 Batch 3:  loss = 0.985, validation accuracy = 0.562\n",
      "Epoch  9, CIFAR-10 Batch 4:  loss = 0.982, validation accuracy = 0.562\n",
      "Epoch  9, CIFAR-10 Batch 5:  loss = 0.983, validation accuracy = 0.568\n",
      "Epoch 10, CIFAR-10 Batch 1:  loss = 0.989, validation accuracy = 0.568\n",
      "Epoch 10, CIFAR-10 Batch 2:  loss = 0.986, validation accuracy = 0.568\n",
      "Epoch 10, CIFAR-10 Batch 3:  loss = 0.933, validation accuracy = 0.574\n",
      "Epoch 10, CIFAR-10 Batch 4:  loss = 0.931, validation accuracy = 0.571\n",
      "Epoch 10, CIFAR-10 Batch 5:  loss = 0.928, validation accuracy = 0.582\n",
      "Epoch 11, CIFAR-10 Batch 1:  loss = 0.932, validation accuracy = 0.579\n",
      "Epoch 11, CIFAR-10 Batch 2:  loss = 0.937, validation accuracy = 0.582\n",
      "Epoch 11, CIFAR-10 Batch 3:  loss = 0.882, validation accuracy = 0.581\n",
      "Epoch 11, CIFAR-10 Batch 4:  loss = 0.876, validation accuracy = 0.585\n",
      "Epoch 11, CIFAR-10 Batch 5:  loss = 0.879, validation accuracy = 0.582\n",
      "Epoch 12, CIFAR-10 Batch 1:  loss = 0.889, validation accuracy = 0.584\n",
      "Epoch 12, CIFAR-10 Batch 2:  loss = 0.882, validation accuracy = 0.583\n",
      "Epoch 12, CIFAR-10 Batch 3:  loss = 0.834, validation accuracy = 0.587\n",
      "Epoch 12, CIFAR-10 Batch 4:  loss = 0.834, validation accuracy = 0.589\n",
      "Epoch 12, CIFAR-10 Batch 5:  loss = 0.828, validation accuracy = 0.593\n",
      "Epoch 13, CIFAR-10 Batch 1:  loss = 0.851, validation accuracy = 0.593\n",
      "Epoch 13, CIFAR-10 Batch 2:  loss = 0.843, validation accuracy = 0.596\n",
      "Epoch 13, CIFAR-10 Batch 3:  loss = 0.787, validation accuracy = 0.589\n",
      "Epoch 13, CIFAR-10 Batch 4:  loss = 0.786, validation accuracy = 0.590\n",
      "Epoch 13, CIFAR-10 Batch 5:  loss = 0.782, validation accuracy = 0.596\n",
      "Epoch 14, CIFAR-10 Batch 1:  loss = 0.807, validation accuracy = 0.595\n",
      "Epoch 14, CIFAR-10 Batch 2:  loss = 0.800, validation accuracy = 0.597\n",
      "Epoch 14, CIFAR-10 Batch 3:  loss = 0.753, validation accuracy = 0.592\n",
      "Epoch 14, CIFAR-10 Batch 4:  loss = 0.750, validation accuracy = 0.596\n",
      "Epoch 14, CIFAR-10 Batch 5:  loss = 0.752, validation accuracy = 0.600\n",
      "Epoch 15, CIFAR-10 Batch 1:  loss = 0.763, validation accuracy = 0.601\n",
      "Epoch 15, CIFAR-10 Batch 2:  loss = 0.761, validation accuracy = 0.607\n",
      "Epoch 15, CIFAR-10 Batch 3:  loss = 0.703, validation accuracy = 0.606\n",
      "Epoch 15, CIFAR-10 Batch 4:  loss = 0.715, validation accuracy = 0.604\n",
      "Epoch 15, CIFAR-10 Batch 5:  loss = 0.711, validation accuracy = 0.607\n",
      "Epoch 16, CIFAR-10 Batch 1:  loss = 0.713, validation accuracy = 0.607\n",
      "Epoch 16, CIFAR-10 Batch 2:  loss = 0.726, validation accuracy = 0.606\n",
      "Epoch 16, CIFAR-10 Batch 3:  loss = 0.671, validation accuracy = 0.610\n",
      "Epoch 16, CIFAR-10 Batch 4:  loss = 0.695, validation accuracy = 0.601\n",
      "Epoch 16, CIFAR-10 Batch 5:  loss = 0.679, validation accuracy = 0.611\n",
      "Epoch 17, CIFAR-10 Batch 1:  loss = 0.682, validation accuracy = 0.610\n",
      "Epoch 17, CIFAR-10 Batch 2:  loss = 0.692, validation accuracy = 0.614\n",
      "Epoch 17, CIFAR-10 Batch 3:  loss = 0.648, validation accuracy = 0.609\n",
      "Epoch 17, CIFAR-10 Batch 4:  loss = 0.654, validation accuracy = 0.607\n",
      "Epoch 17, CIFAR-10 Batch 5:  loss = 0.637, validation accuracy = 0.616\n",
      "Epoch 18, CIFAR-10 Batch 1:  loss = 0.641, validation accuracy = 0.622\n",
      "Epoch 18, CIFAR-10 Batch 2:  loss = 0.657, validation accuracy = 0.614\n",
      "Epoch 18, CIFAR-10 Batch 3:  loss = 0.603, validation accuracy = 0.610\n",
      "Epoch 18, CIFAR-10 Batch 4:  loss = 0.621, validation accuracy = 0.614\n",
      "Epoch 18, CIFAR-10 Batch 5:  loss = 0.608, validation accuracy = 0.620\n",
      "Epoch 19, CIFAR-10 Batch 1:  loss = 0.612, validation accuracy = 0.618\n",
      "Epoch 19, CIFAR-10 Batch 2:  loss = 0.619, validation accuracy = 0.616\n",
      "Epoch 19, CIFAR-10 Batch 3:  loss = 0.585, validation accuracy = 0.615\n",
      "Epoch 19, CIFAR-10 Batch 4:  loss = 0.602, validation accuracy = 0.614\n",
      "Epoch 19, CIFAR-10 Batch 5:  loss = 0.572, validation accuracy = 0.620\n",
      "Epoch 20, CIFAR-10 Batch 1:  loss = 0.597, validation accuracy = 0.616\n",
      "Epoch 20, CIFAR-10 Batch 2:  loss = 0.620, validation accuracy = 0.606\n",
      "Epoch 20, CIFAR-10 Batch 3:  loss = 0.602, validation accuracy = 0.605\n",
      "Epoch 20, CIFAR-10 Batch 4:  loss = 0.605, validation accuracy = 0.596\n",
      "Epoch 20, CIFAR-10 Batch 5:  loss = 0.562, validation accuracy = 0.618\n",
      "Epoch 21, CIFAR-10 Batch 1:  loss = 0.580, validation accuracy = 0.614\n",
      "Epoch 21, CIFAR-10 Batch 2:  loss = 0.582, validation accuracy = 0.626\n",
      "Epoch 21, CIFAR-10 Batch 3:  loss = 0.526, validation accuracy = 0.621\n",
      "Epoch 21, CIFAR-10 Batch 4:  loss = 0.549, validation accuracy = 0.622\n",
      "Epoch 21, CIFAR-10 Batch 5:  loss = 0.537, validation accuracy = 0.628\n",
      "Epoch 22, CIFAR-10 Batch 1:  loss = 0.532, validation accuracy = 0.626\n",
      "Epoch 22, CIFAR-10 Batch 2:  loss = 0.540, validation accuracy = 0.631\n",
      "Epoch 22, CIFAR-10 Batch 3:  loss = 0.497, validation accuracy = 0.629\n",
      "Epoch 22, CIFAR-10 Batch 4:  loss = 0.505, validation accuracy = 0.623\n",
      "Epoch 22, CIFAR-10 Batch 5:  loss = 0.510, validation accuracy = 0.621\n",
      "Epoch 23, CIFAR-10 Batch 1:  loss = 0.512, validation accuracy = 0.626\n",
      "Epoch 23, CIFAR-10 Batch 2:  loss = 0.520, validation accuracy = 0.632\n",
      "Epoch 23, CIFAR-10 Batch 3:  loss = 0.480, validation accuracy = 0.627\n",
      "Epoch 23, CIFAR-10 Batch 4:  loss = 0.482, validation accuracy = 0.632\n",
      "Epoch 23, CIFAR-10 Batch 5:  loss = 0.480, validation accuracy = 0.626\n",
      "Epoch 24, CIFAR-10 Batch 1:  loss = 0.487, validation accuracy = 0.627\n",
      "Epoch 24, CIFAR-10 Batch 2:  loss = 0.503, validation accuracy = 0.626\n",
      "Epoch 24, CIFAR-10 Batch 3:  loss = 0.453, validation accuracy = 0.628\n",
      "Epoch 24, CIFAR-10 Batch 4:  loss = 0.456, validation accuracy = 0.628\n",
      "Epoch 24, CIFAR-10 Batch 5:  loss = 0.457, validation accuracy = 0.628\n",
      "Epoch 25, CIFAR-10 Batch 1:  loss = 0.455, validation accuracy = 0.627\n",
      "Epoch 25, CIFAR-10 Batch 2:  loss = 0.493, validation accuracy = 0.628\n",
      "Epoch 25, CIFAR-10 Batch 3:  loss = 0.432, validation accuracy = 0.634\n",
      "Epoch 25, CIFAR-10 Batch 4:  loss = 0.435, validation accuracy = 0.634\n",
      "Epoch 25, CIFAR-10 Batch 5:  loss = 0.437, validation accuracy = 0.638\n",
      "Epoch 26, CIFAR-10 Batch 1:  loss = 0.448, validation accuracy = 0.625\n",
      "Epoch 26, CIFAR-10 Batch 2:  loss = 0.459, validation accuracy = 0.636\n",
      "Epoch 26, CIFAR-10 Batch 3:  loss = 0.422, validation accuracy = 0.636\n",
      "Epoch 26, CIFAR-10 Batch 4:  loss = 0.404, validation accuracy = 0.637\n",
      "Epoch 26, CIFAR-10 Batch 5:  loss = 0.414, validation accuracy = 0.635\n",
      "Epoch 27, CIFAR-10 Batch 1:  loss = 0.420, validation accuracy = 0.632\n",
      "Epoch 27, CIFAR-10 Batch 2:  loss = 0.423, validation accuracy = 0.642\n",
      "Epoch 27, CIFAR-10 Batch 3:  loss = 0.408, validation accuracy = 0.639\n",
      "Epoch 27, CIFAR-10 Batch 4:  loss = 0.386, validation accuracy = 0.636\n",
      "Epoch 27, CIFAR-10 Batch 5:  loss = 0.392, validation accuracy = 0.638\n",
      "Epoch 28, CIFAR-10 Batch 1:  loss = 0.397, validation accuracy = 0.632\n",
      "Epoch 28, CIFAR-10 Batch 2:  loss = 0.396, validation accuracy = 0.643\n",
      "Epoch 28, CIFAR-10 Batch 3:  loss = 0.392, validation accuracy = 0.634\n",
      "Epoch 28, CIFAR-10 Batch 4:  loss = 0.368, validation accuracy = 0.642\n",
      "Epoch 28, CIFAR-10 Batch 5:  loss = 0.373, validation accuracy = 0.636\n",
      "Epoch 29, CIFAR-10 Batch 1:  loss = 0.370, validation accuracy = 0.640\n",
      "Epoch 29, CIFAR-10 Batch 2:  loss = 0.381, validation accuracy = 0.636\n",
      "Epoch 29, CIFAR-10 Batch 3:  loss = 0.378, validation accuracy = 0.633\n",
      "Epoch 29, CIFAR-10 Batch 4:  loss = 0.345, validation accuracy = 0.642\n",
      "Epoch 29, CIFAR-10 Batch 5:  loss = 0.352, validation accuracy = 0.634\n",
      "Epoch 30, CIFAR-10 Batch 1:  loss = 0.352, validation accuracy = 0.644\n",
      "Epoch 30, CIFAR-10 Batch 2:  loss = 0.361, validation accuracy = 0.640\n",
      "Epoch 30, CIFAR-10 Batch 3:  loss = 0.355, validation accuracy = 0.637\n",
      "Epoch 30, CIFAR-10 Batch 4:  loss = 0.327, validation accuracy = 0.645\n",
      "Epoch 30, CIFAR-10 Batch 5:  loss = 0.340, validation accuracy = 0.641\n",
      "Epoch 31, CIFAR-10 Batch 1:  loss = 0.337, validation accuracy = 0.639\n",
      "Epoch 31, CIFAR-10 Batch 2:  loss = 0.366, validation accuracy = 0.626\n",
      "Epoch 31, CIFAR-10 Batch 3:  loss = 0.340, validation accuracy = 0.636\n",
      "Epoch 31, CIFAR-10 Batch 4:  loss = 0.314, validation accuracy = 0.646\n",
      "Epoch 31, CIFAR-10 Batch 5:  loss = 0.317, validation accuracy = 0.639\n",
      "Epoch 32, CIFAR-10 Batch 1:  loss = 0.339, validation accuracy = 0.631\n",
      "Epoch 32, CIFAR-10 Batch 2:  loss = 0.338, validation accuracy = 0.636\n",
      "Epoch 32, CIFAR-10 Batch 3:  loss = 0.311, validation accuracy = 0.638\n",
      "Epoch 32, CIFAR-10 Batch 4:  loss = 0.286, validation accuracy = 0.648\n",
      "Epoch 32, CIFAR-10 Batch 5:  loss = 0.295, validation accuracy = 0.647\n",
      "Epoch 33, CIFAR-10 Batch 1:  loss = 0.307, validation accuracy = 0.636\n",
      "Epoch 33, CIFAR-10 Batch 2:  loss = 0.298, validation accuracy = 0.643\n",
      "Epoch 33, CIFAR-10 Batch 3:  loss = 0.280, validation accuracy = 0.643\n",
      "Epoch 33, CIFAR-10 Batch 4:  loss = 0.272, validation accuracy = 0.650\n",
      "Epoch 33, CIFAR-10 Batch 5:  loss = 0.270, validation accuracy = 0.648\n",
      "Epoch 34, CIFAR-10 Batch 1:  loss = 0.289, validation accuracy = 0.643\n",
      "Epoch 34, CIFAR-10 Batch 2:  loss = 0.281, validation accuracy = 0.651\n",
      "Epoch 34, CIFAR-10 Batch 3:  loss = 0.262, validation accuracy = 0.649\n",
      "Epoch 34, CIFAR-10 Batch 4:  loss = 0.251, validation accuracy = 0.649\n",
      "Epoch 34, CIFAR-10 Batch 5:  loss = 0.248, validation accuracy = 0.649\n",
      "Epoch 35, CIFAR-10 Batch 1:  loss = 0.278, validation accuracy = 0.639\n",
      "Epoch 35, CIFAR-10 Batch 2:  loss = 0.275, validation accuracy = 0.648\n",
      "Epoch 35, CIFAR-10 Batch 3:  loss = 0.249, validation accuracy = 0.647\n",
      "Epoch 35, CIFAR-10 Batch 4:  loss = 0.238, validation accuracy = 0.658\n",
      "Epoch 35, CIFAR-10 Batch 5:  loss = 0.246, validation accuracy = 0.648\n",
      "Epoch 36, CIFAR-10 Batch 1:  loss = 0.258, validation accuracy = 0.645\n",
      "Epoch 36, CIFAR-10 Batch 2:  loss = 0.252, validation accuracy = 0.649\n",
      "Epoch 36, CIFAR-10 Batch 3:  loss = 0.236, validation accuracy = 0.652\n",
      "Epoch 36, CIFAR-10 Batch 4:  loss = 0.227, validation accuracy = 0.654\n",
      "Epoch 36, CIFAR-10 Batch 5:  loss = 0.223, validation accuracy = 0.650\n",
      "Epoch 37, CIFAR-10 Batch 1:  loss = 0.236, validation accuracy = 0.648\n",
      "Epoch 37, CIFAR-10 Batch 2:  loss = 0.234, validation accuracy = 0.653\n",
      "Epoch 37, CIFAR-10 Batch 3:  loss = 0.225, validation accuracy = 0.647\n",
      "Epoch 37, CIFAR-10 Batch 4:  loss = 0.224, validation accuracy = 0.652\n",
      "Epoch 37, CIFAR-10 Batch 5:  loss = 0.228, validation accuracy = 0.648\n",
      "Epoch 38, CIFAR-10 Batch 1:  loss = 0.228, validation accuracy = 0.646\n",
      "Epoch 38, CIFAR-10 Batch 2:  loss = 0.229, validation accuracy = 0.650\n",
      "Epoch 38, CIFAR-10 Batch 3:  loss = 0.217, validation accuracy = 0.650\n",
      "Epoch 38, CIFAR-10 Batch 4:  loss = 0.213, validation accuracy = 0.650\n",
      "Epoch 38, CIFAR-10 Batch 5:  loss = 0.210, validation accuracy = 0.650\n",
      "Epoch 39, CIFAR-10 Batch 1:  loss = 0.218, validation accuracy = 0.649\n",
      "Epoch 39, CIFAR-10 Batch 2:  loss = 0.221, validation accuracy = 0.652\n",
      "Epoch 39, CIFAR-10 Batch 3:  loss = 0.215, validation accuracy = 0.645\n",
      "Epoch 39, CIFAR-10 Batch 4:  loss = 0.195, validation accuracy = 0.649\n",
      "Epoch 39, CIFAR-10 Batch 5:  loss = 0.196, validation accuracy = 0.649\n",
      "Epoch 40, CIFAR-10 Batch 1:  loss = 0.205, validation accuracy = 0.657\n",
      "Epoch 40, CIFAR-10 Batch 2:  loss = 0.208, validation accuracy = 0.650\n",
      "Epoch 40, CIFAR-10 Batch 3:  loss = 0.208, validation accuracy = 0.641\n",
      "Epoch 40, CIFAR-10 Batch 4:  loss = 0.187, validation accuracy = 0.649\n",
      "Epoch 40, CIFAR-10 Batch 5:  loss = 0.189, validation accuracy = 0.649\n",
      "Epoch 41, CIFAR-10 Batch 1:  loss = 0.200, validation accuracy = 0.648\n",
      "Epoch 41, CIFAR-10 Batch 2:  loss = 0.207, validation accuracy = 0.649\n",
      "Epoch 41, CIFAR-10 Batch 3:  loss = 0.204, validation accuracy = 0.642\n",
      "Epoch 41, CIFAR-10 Batch 4:  loss = 0.181, validation accuracy = 0.656\n",
      "Epoch 41, CIFAR-10 Batch 5:  loss = 0.180, validation accuracy = 0.648\n",
      "Epoch 42, CIFAR-10 Batch 1:  loss = 0.189, validation accuracy = 0.648\n",
      "Epoch 42, CIFAR-10 Batch 2:  loss = 0.184, validation accuracy = 0.650\n",
      "Epoch 42, CIFAR-10 Batch 3:  loss = 0.184, validation accuracy = 0.649\n",
      "Epoch 42, CIFAR-10 Batch 4:  loss = 0.167, validation accuracy = 0.663\n",
      "Epoch 42, CIFAR-10 Batch 5:  loss = 0.169, validation accuracy = 0.651\n",
      "Epoch 43, CIFAR-10 Batch 1:  loss = 0.175, validation accuracy = 0.652\n",
      "Epoch 43, CIFAR-10 Batch 2:  loss = 0.172, validation accuracy = 0.649\n",
      "Epoch 43, CIFAR-10 Batch 3:  loss = 0.181, validation accuracy = 0.648\n",
      "Epoch 43, CIFAR-10 Batch 4:  loss = 0.167, validation accuracy = 0.654\n",
      "Epoch 43, CIFAR-10 Batch 5:  loss = 0.160, validation accuracy = 0.647\n",
      "Epoch 44, CIFAR-10 Batch 1:  loss = 0.162, validation accuracy = 0.652\n",
      "Epoch 44, CIFAR-10 Batch 2:  loss = 0.166, validation accuracy = 0.649\n",
      "Epoch 44, CIFAR-10 Batch 3:  loss = 0.167, validation accuracy = 0.652\n",
      "Epoch 44, CIFAR-10 Batch 4:  loss = 0.156, validation accuracy = 0.660\n",
      "Epoch 44, CIFAR-10 Batch 5:  loss = 0.146, validation accuracy = 0.651\n",
      "Epoch 45, CIFAR-10 Batch 1:  loss = 0.157, validation accuracy = 0.657\n",
      "Epoch 45, CIFAR-10 Batch 2:  loss = 0.151, validation accuracy = 0.649\n",
      "Epoch 45, CIFAR-10 Batch 3:  loss = 0.154, validation accuracy = 0.649\n",
      "Epoch 45, CIFAR-10 Batch 4:  loss = 0.162, validation accuracy = 0.649\n",
      "Epoch 45, CIFAR-10 Batch 5:  loss = 0.131, validation accuracy = 0.656\n",
      "Epoch 46, CIFAR-10 Batch 1:  loss = 0.150, validation accuracy = 0.652\n",
      "Epoch 46, CIFAR-10 Batch 2:  loss = 0.148, validation accuracy = 0.656\n",
      "Epoch 46, CIFAR-10 Batch 3:  loss = 0.144, validation accuracy = 0.650\n",
      "Epoch 46, CIFAR-10 Batch 4:  loss = 0.163, validation accuracy = 0.652\n",
      "Epoch 46, CIFAR-10 Batch 5:  loss = 0.129, validation accuracy = 0.654\n",
      "Epoch 47, CIFAR-10 Batch 1:  loss = 0.142, validation accuracy = 0.661\n",
      "Epoch 47, CIFAR-10 Batch 2:  loss = 0.138, validation accuracy = 0.663\n",
      "Epoch 47, CIFAR-10 Batch 3:  loss = 0.134, validation accuracy = 0.654\n",
      "Epoch 47, CIFAR-10 Batch 4:  loss = 0.150, validation accuracy = 0.651\n",
      "Epoch 47, CIFAR-10 Batch 5:  loss = 0.119, validation accuracy = 0.656\n",
      "Epoch 48, CIFAR-10 Batch 1:  loss = 0.135, validation accuracy = 0.658\n",
      "Epoch 48, CIFAR-10 Batch 2:  loss = 0.136, validation accuracy = 0.655\n",
      "Epoch 48, CIFAR-10 Batch 3:  loss = 0.130, validation accuracy = 0.648\n",
      "Epoch 48, CIFAR-10 Batch 4:  loss = 0.135, validation accuracy = 0.651\n",
      "Epoch 48, CIFAR-10 Batch 5:  loss = 0.114, validation accuracy = 0.654\n",
      "Epoch 49, CIFAR-10 Batch 1:  loss = 0.125, validation accuracy = 0.654\n",
      "Epoch 49, CIFAR-10 Batch 2:  loss = 0.133, validation accuracy = 0.656\n",
      "Epoch 49, CIFAR-10 Batch 3:  loss = 0.129, validation accuracy = 0.647\n",
      "Epoch 49, CIFAR-10 Batch 4:  loss = 0.121, validation accuracy = 0.659\n",
      "Epoch 49, CIFAR-10 Batch 5:  loss = 0.107, validation accuracy = 0.659\n",
      "Epoch 50, CIFAR-10 Batch 1:  loss = 0.112, validation accuracy = 0.654\n",
      "Epoch 50, CIFAR-10 Batch 2:  loss = 0.135, validation accuracy = 0.652\n",
      "Epoch 50, CIFAR-10 Batch 3:  loss = 0.118, validation accuracy = 0.648\n",
      "Epoch 50, CIFAR-10 Batch 4:  loss = 0.117, validation accuracy = 0.654\n",
      "Epoch 50, CIFAR-10 Batch 5:  loss = 0.116, validation accuracy = 0.649\n",
      "Epoch 51, CIFAR-10 Batch 1:  loss = 0.112, validation accuracy = 0.653\n",
      "Epoch 51, CIFAR-10 Batch 2:  loss = 0.141, validation accuracy = 0.647\n",
      "Epoch 51, CIFAR-10 Batch 3:  loss = 0.115, validation accuracy = 0.654\n",
      "Epoch 51, CIFAR-10 Batch 4:  loss = 0.107, validation accuracy = 0.657\n",
      "Epoch 51, CIFAR-10 Batch 5:  loss = 0.098, validation accuracy = 0.662\n",
      "Epoch 52, CIFAR-10 Batch 1:  loss = 0.107, validation accuracy = 0.650\n",
      "Epoch 52, CIFAR-10 Batch 2:  loss = 0.124, validation accuracy = 0.642\n",
      "Epoch 52, CIFAR-10 Batch 3:  loss = 0.115, validation accuracy = 0.651\n",
      "Epoch 52, CIFAR-10 Batch 4:  loss = 0.100, validation accuracy = 0.657\n",
      "Epoch 52, CIFAR-10 Batch 5:  loss = 0.092, validation accuracy = 0.653\n",
      "Epoch 53, CIFAR-10 Batch 1:  loss = 0.096, validation accuracy = 0.654\n",
      "Epoch 53, CIFAR-10 Batch 2:  loss = 0.104, validation accuracy = 0.650\n",
      "Epoch 53, CIFAR-10 Batch 3:  loss = 0.103, validation accuracy = 0.649\n",
      "Epoch 53, CIFAR-10 Batch 4:  loss = 0.098, validation accuracy = 0.653\n",
      "Epoch 53, CIFAR-10 Batch 5:  loss = 0.094, validation accuracy = 0.660\n",
      "Epoch 54, CIFAR-10 Batch 1:  loss = 0.086, validation accuracy = 0.657\n",
      "Epoch 54, CIFAR-10 Batch 2:  loss = 0.102, validation accuracy = 0.648\n",
      "Epoch 54, CIFAR-10 Batch 3:  loss = 0.098, validation accuracy = 0.657\n",
      "Epoch 54, CIFAR-10 Batch 4:  loss = 0.094, validation accuracy = 0.655\n",
      "Epoch 54, CIFAR-10 Batch 5:  loss = 0.094, validation accuracy = 0.650\n",
      "Epoch 55, CIFAR-10 Batch 1:  loss = 0.090, validation accuracy = 0.650\n",
      "Epoch 55, CIFAR-10 Batch 2:  loss = 0.096, validation accuracy = 0.645\n",
      "Epoch 55, CIFAR-10 Batch 3:  loss = 0.096, validation accuracy = 0.655\n",
      "Epoch 55, CIFAR-10 Batch 4:  loss = 0.092, validation accuracy = 0.651\n",
      "Epoch 55, CIFAR-10 Batch 5:  loss = 0.083, validation accuracy = 0.655\n",
      "Epoch 56, CIFAR-10 Batch 1:  loss = 0.095, validation accuracy = 0.648\n",
      "Epoch 56, CIFAR-10 Batch 2:  loss = 0.092, validation accuracy = 0.646\n",
      "Epoch 56, CIFAR-10 Batch 3:  loss = 0.098, validation accuracy = 0.654\n",
      "Epoch 56, CIFAR-10 Batch 4:  loss = 0.090, validation accuracy = 0.653\n",
      "Epoch 56, CIFAR-10 Batch 5:  loss = 0.085, validation accuracy = 0.644\n",
      "Epoch 57, CIFAR-10 Batch 1:  loss = 0.099, validation accuracy = 0.649\n",
      "Epoch 57, CIFAR-10 Batch 2:  loss = 0.095, validation accuracy = 0.656\n",
      "Epoch 57, CIFAR-10 Batch 3:  loss = 0.101, validation accuracy = 0.647\n",
      "Epoch 57, CIFAR-10 Batch 4:  loss = 0.089, validation accuracy = 0.646\n",
      "Epoch 57, CIFAR-10 Batch 5:  loss = 0.101, validation accuracy = 0.640\n",
      "Epoch 58, CIFAR-10 Batch 1:  loss = 0.084, validation accuracy = 0.655\n",
      "Epoch 58, CIFAR-10 Batch 2:  loss = 0.095, validation accuracy = 0.654\n",
      "Epoch 58, CIFAR-10 Batch 3:  loss = 0.090, validation accuracy = 0.650\n",
      "Epoch 58, CIFAR-10 Batch 4:  loss = 0.087, validation accuracy = 0.649\n",
      "Epoch 58, CIFAR-10 Batch 5:  loss = 0.093, validation accuracy = 0.648\n",
      "Epoch 59, CIFAR-10 Batch 1:  loss = 0.091, validation accuracy = 0.640\n",
      "Epoch 59, CIFAR-10 Batch 2:  loss = 0.100, validation accuracy = 0.648\n",
      "Epoch 59, CIFAR-10 Batch 3:  loss = 0.072, validation accuracy = 0.659\n",
      "Epoch 59, CIFAR-10 Batch 4:  loss = 0.084, validation accuracy = 0.653\n",
      "Epoch 59, CIFAR-10 Batch 5:  loss = 0.078, validation accuracy = 0.656\n",
      "Epoch 60, CIFAR-10 Batch 1:  loss = 0.085, validation accuracy = 0.641\n",
      "Epoch 60, CIFAR-10 Batch 2:  loss = 0.080, validation accuracy = 0.648\n",
      "Epoch 60, CIFAR-10 Batch 3:  loss = 0.072, validation accuracy = 0.659\n",
      "Epoch 60, CIFAR-10 Batch 4:  loss = 0.073, validation accuracy = 0.650\n",
      "Epoch 60, CIFAR-10 Batch 5:  loss = 0.069, validation accuracy = 0.656\n",
      "Epoch 61, CIFAR-10 Batch 1:  loss = 0.086, validation accuracy = 0.636\n",
      "Epoch 61, CIFAR-10 Batch 2:  loss = 0.079, validation accuracy = 0.643\n",
      "Epoch 61, CIFAR-10 Batch 3:  loss = 0.082, validation accuracy = 0.646\n",
      "Epoch 61, CIFAR-10 Batch 4:  loss = 0.071, validation accuracy = 0.657\n",
      "Epoch 61, CIFAR-10 Batch 5:  loss = 0.077, validation accuracy = 0.652\n",
      "Epoch 62, CIFAR-10 Batch 1:  loss = 0.066, validation accuracy = 0.649\n",
      "Epoch 62, CIFAR-10 Batch 2:  loss = 0.075, validation accuracy = 0.651\n",
      "Epoch 62, CIFAR-10 Batch 3:  loss = 0.077, validation accuracy = 0.648\n",
      "Epoch 62, CIFAR-10 Batch 4:  loss = 0.069, validation accuracy = 0.645\n",
      "Epoch 62, CIFAR-10 Batch 5:  loss = 0.070, validation accuracy = 0.655\n",
      "Epoch 63, CIFAR-10 Batch 1:  loss = 0.067, validation accuracy = 0.652\n",
      "Epoch 63, CIFAR-10 Batch 2:  loss = 0.071, validation accuracy = 0.656\n",
      "Epoch 63, CIFAR-10 Batch 3:  loss = 0.065, validation accuracy = 0.662\n",
      "Epoch 63, CIFAR-10 Batch 4:  loss = 0.060, validation accuracy = 0.652\n",
      "Epoch 63, CIFAR-10 Batch 5:  loss = 0.067, validation accuracy = 0.649\n",
      "Epoch 64, CIFAR-10 Batch 1:  loss = 0.064, validation accuracy = 0.645\n",
      "Epoch 64, CIFAR-10 Batch 2:  loss = 0.066, validation accuracy = 0.661\n",
      "Epoch 64, CIFAR-10 Batch 3:  loss = 0.056, validation accuracy = 0.659\n",
      "Epoch 64, CIFAR-10 Batch 4:  loss = 0.053, validation accuracy = 0.659\n",
      "Epoch 64, CIFAR-10 Batch 5:  loss = 0.064, validation accuracy = 0.652\n",
      "Epoch 65, CIFAR-10 Batch 1:  loss = 0.064, validation accuracy = 0.643\n",
      "Epoch 65, CIFAR-10 Batch 2:  loss = 0.067, validation accuracy = 0.656\n",
      "Epoch 65, CIFAR-10 Batch 3:  loss = 0.058, validation accuracy = 0.659\n",
      "Epoch 65, CIFAR-10 Batch 4:  loss = 0.053, validation accuracy = 0.656\n",
      "Epoch 65, CIFAR-10 Batch 5:  loss = 0.053, validation accuracy = 0.655\n",
      "Epoch 66, CIFAR-10 Batch 1:  loss = 0.057, validation accuracy = 0.645\n",
      "Epoch 66, CIFAR-10 Batch 2:  loss = 0.055, validation accuracy = 0.661\n",
      "Epoch 66, CIFAR-10 Batch 3:  loss = 0.048, validation accuracy = 0.662\n",
      "Epoch 66, CIFAR-10 Batch 4:  loss = 0.050, validation accuracy = 0.661\n",
      "Epoch 66, CIFAR-10 Batch 5:  loss = 0.049, validation accuracy = 0.659\n",
      "Epoch 67, CIFAR-10 Batch 1:  loss = 0.051, validation accuracy = 0.658\n",
      "Epoch 67, CIFAR-10 Batch 2:  loss = 0.051, validation accuracy = 0.663\n",
      "Epoch 67, CIFAR-10 Batch 3:  loss = 0.049, validation accuracy = 0.660\n",
      "Epoch 67, CIFAR-10 Batch 4:  loss = 0.050, validation accuracy = 0.656\n",
      "Epoch 67, CIFAR-10 Batch 5:  loss = 0.046, validation accuracy = 0.656\n",
      "Epoch 68, CIFAR-10 Batch 1:  loss = 0.053, validation accuracy = 0.655\n",
      "Epoch 68, CIFAR-10 Batch 2:  loss = 0.055, validation accuracy = 0.660\n",
      "Epoch 68, CIFAR-10 Batch 3:  loss = 0.047, validation accuracy = 0.662\n",
      "Epoch 68, CIFAR-10 Batch 4:  loss = 0.042, validation accuracy = 0.657\n",
      "Epoch 68, CIFAR-10 Batch 5:  loss = 0.046, validation accuracy = 0.657\n",
      "Epoch 69, CIFAR-10 Batch 1:  loss = 0.048, validation accuracy = 0.655\n",
      "Epoch 69, CIFAR-10 Batch 2:  loss = 0.048, validation accuracy = 0.659\n",
      "Epoch 69, CIFAR-10 Batch 3:  loss = 0.049, validation accuracy = 0.657\n",
      "Epoch 69, CIFAR-10 Batch 4:  loss = 0.042, validation accuracy = 0.657\n",
      "Epoch 69, CIFAR-10 Batch 5:  loss = 0.043, validation accuracy = 0.658\n",
      "Epoch 70, CIFAR-10 Batch 1:  loss = 0.048, validation accuracy = 0.654\n",
      "Epoch 70, CIFAR-10 Batch 2:  loss = 0.042, validation accuracy = 0.667\n",
      "Epoch 70, CIFAR-10 Batch 3:  loss = 0.046, validation accuracy = 0.655\n",
      "Epoch 70, CIFAR-10 Batch 4:  loss = 0.048, validation accuracy = 0.651\n",
      "Epoch 70, CIFAR-10 Batch 5:  loss = 0.045, validation accuracy = 0.650\n",
      "Epoch 71, CIFAR-10 Batch 1:  loss = 0.046, validation accuracy = 0.647\n",
      "Epoch 71, CIFAR-10 Batch 2:  loss = 0.043, validation accuracy = 0.663\n",
      "Epoch 71, CIFAR-10 Batch 3:  loss = 0.047, validation accuracy = 0.661\n",
      "Epoch 71, CIFAR-10 Batch 4:  loss = 0.043, validation accuracy = 0.649\n",
      "Epoch 71, CIFAR-10 Batch 5:  loss = 0.050, validation accuracy = 0.644\n",
      "Epoch 72, CIFAR-10 Batch 1:  loss = 0.048, validation accuracy = 0.650\n",
      "Epoch 72, CIFAR-10 Batch 2:  loss = 0.040, validation accuracy = 0.659\n",
      "Epoch 72, CIFAR-10 Batch 3:  loss = 0.048, validation accuracy = 0.656\n",
      "Epoch 72, CIFAR-10 Batch 4:  loss = 0.044, validation accuracy = 0.652\n",
      "Epoch 72, CIFAR-10 Batch 5:  loss = 0.042, validation accuracy = 0.655\n",
      "Epoch 73, CIFAR-10 Batch 1:  loss = 0.047, validation accuracy = 0.657\n",
      "Epoch 73, CIFAR-10 Batch 2:  loss = 0.038, validation accuracy = 0.667\n",
      "Epoch 73, CIFAR-10 Batch 3:  loss = 0.049, validation accuracy = 0.658\n",
      "Epoch 73, CIFAR-10 Batch 4:  loss = 0.046, validation accuracy = 0.659\n",
      "Epoch 73, CIFAR-10 Batch 5:  loss = 0.038, validation accuracy = 0.652\n",
      "Epoch 74, CIFAR-10 Batch 1:  loss = 0.050, validation accuracy = 0.649\n",
      "Epoch 74, CIFAR-10 Batch 2:  loss = 0.035, validation accuracy = 0.661\n",
      "Epoch 74, CIFAR-10 Batch 3:  loss = 0.044, validation accuracy = 0.659\n",
      "Epoch 74, CIFAR-10 Batch 4:  loss = 0.037, validation accuracy = 0.657\n",
      "Epoch 74, CIFAR-10 Batch 5:  loss = 0.034, validation accuracy = 0.658\n",
      "Epoch 75, CIFAR-10 Batch 1:  loss = 0.047, validation accuracy = 0.650\n",
      "Epoch 75, CIFAR-10 Batch 2:  loss = 0.037, validation accuracy = 0.654\n",
      "Epoch 75, CIFAR-10 Batch 3:  loss = 0.047, validation accuracy = 0.650\n",
      "Epoch 75, CIFAR-10 Batch 4:  loss = 0.036, validation accuracy = 0.658\n",
      "Epoch 75, CIFAR-10 Batch 5:  loss = 0.032, validation accuracy = 0.656\n",
      "Epoch 76, CIFAR-10 Batch 1:  loss = 0.043, validation accuracy = 0.652\n",
      "Epoch 76, CIFAR-10 Batch 2:  loss = 0.038, validation accuracy = 0.644\n",
      "Epoch 76, CIFAR-10 Batch 3:  loss = 0.065, validation accuracy = 0.634\n",
      "Epoch 76, CIFAR-10 Batch 4:  loss = 0.040, validation accuracy = 0.647\n",
      "Epoch 76, CIFAR-10 Batch 5:  loss = 0.044, validation accuracy = 0.645\n",
      "Epoch 77, CIFAR-10 Batch 1:  loss = 0.039, validation accuracy = 0.657\n",
      "Epoch 77, CIFAR-10 Batch 2:  loss = 0.033, validation accuracy = 0.658\n",
      "Epoch 77, CIFAR-10 Batch 3:  loss = 0.049, validation accuracy = 0.641\n",
      "Epoch 77, CIFAR-10 Batch 4:  loss = 0.047, validation accuracy = 0.637\n",
      "Epoch 77, CIFAR-10 Batch 5:  loss = 0.047, validation accuracy = 0.647\n",
      "Epoch 78, CIFAR-10 Batch 1:  loss = 0.040, validation accuracy = 0.662\n",
      "Epoch 78, CIFAR-10 Batch 2:  loss = 0.038, validation accuracy = 0.660\n",
      "Epoch 78, CIFAR-10 Batch 3:  loss = 0.040, validation accuracy = 0.643\n",
      "Epoch 78, CIFAR-10 Batch 4:  loss = 0.035, validation accuracy = 0.645\n",
      "Epoch 78, CIFAR-10 Batch 5:  loss = 0.047, validation accuracy = 0.651\n",
      "Epoch 79, CIFAR-10 Batch 1:  loss = 0.038, validation accuracy = 0.657\n",
      "Epoch 79, CIFAR-10 Batch 2:  loss = 0.037, validation accuracy = 0.660\n",
      "Epoch 79, CIFAR-10 Batch 3:  loss = 0.036, validation accuracy = 0.652\n",
      "Epoch 79, CIFAR-10 Batch 4:  loss = 0.032, validation accuracy = 0.652\n",
      "Epoch 79, CIFAR-10 Batch 5:  loss = 0.040, validation accuracy = 0.641\n",
      "Epoch 80, CIFAR-10 Batch 1:  loss = 0.036, validation accuracy = 0.656\n",
      "Epoch 80, CIFAR-10 Batch 2:  loss = 0.034, validation accuracy = 0.660\n",
      "Epoch 80, CIFAR-10 Batch 3:  loss = 0.034, validation accuracy = 0.658\n",
      "Epoch 80, CIFAR-10 Batch 4:  loss = 0.028, validation accuracy = 0.654\n",
      "Epoch 80, CIFAR-10 Batch 5:  loss = 0.035, validation accuracy = 0.650\n",
      "Epoch 81, CIFAR-10 Batch 1:  loss = 0.034, validation accuracy = 0.657\n",
      "Epoch 81, CIFAR-10 Batch 2:  loss = 0.040, validation accuracy = 0.654\n",
      "Epoch 81, CIFAR-10 Batch 3:  loss = 0.028, validation accuracy = 0.656\n",
      "Epoch 81, CIFAR-10 Batch 4:  loss = 0.027, validation accuracy = 0.655\n",
      "Epoch 81, CIFAR-10 Batch 5:  loss = 0.031, validation accuracy = 0.652\n",
      "Epoch 82, CIFAR-10 Batch 1:  loss = 0.028, validation accuracy = 0.656\n",
      "Epoch 82, CIFAR-10 Batch 2:  loss = 0.028, validation accuracy = 0.662\n",
      "Epoch 82, CIFAR-10 Batch 3:  loss = 0.027, validation accuracy = 0.658\n",
      "Epoch 82, CIFAR-10 Batch 4:  loss = 0.026, validation accuracy = 0.649\n",
      "Epoch 82, CIFAR-10 Batch 5:  loss = 0.034, validation accuracy = 0.642\n",
      "Epoch 83, CIFAR-10 Batch 1:  loss = 0.030, validation accuracy = 0.658\n",
      "Epoch 83, CIFAR-10 Batch 2:  loss = 0.028, validation accuracy = 0.664\n",
      "Epoch 83, CIFAR-10 Batch 3:  loss = 0.029, validation accuracy = 0.662\n",
      "Epoch 83, CIFAR-10 Batch 4:  loss = 0.024, validation accuracy = 0.651\n",
      "Epoch 83, CIFAR-10 Batch 5:  loss = 0.029, validation accuracy = 0.654\n",
      "Epoch 84, CIFAR-10 Batch 1:  loss = 0.027, validation accuracy = 0.654\n",
      "Epoch 84, CIFAR-10 Batch 2:  loss = 0.025, validation accuracy = 0.657\n",
      "Epoch 84, CIFAR-10 Batch 3:  loss = 0.025, validation accuracy = 0.658\n",
      "Epoch 84, CIFAR-10 Batch 4:  loss = 0.022, validation accuracy = 0.663\n",
      "Epoch 84, CIFAR-10 Batch 5:  loss = 0.026, validation accuracy = 0.649\n",
      "Epoch 85, CIFAR-10 Batch 1:  loss = 0.028, validation accuracy = 0.644\n",
      "Epoch 85, CIFAR-10 Batch 2:  loss = 0.024, validation accuracy = 0.659\n",
      "Epoch 85, CIFAR-10 Batch 3:  loss = 0.022, validation accuracy = 0.663\n",
      "Epoch 85, CIFAR-10 Batch 4:  loss = 0.020, validation accuracy = 0.652\n",
      "Epoch 85, CIFAR-10 Batch 5:  loss = 0.026, validation accuracy = 0.648\n",
      "Epoch 86, CIFAR-10 Batch 1:  loss = 0.030, validation accuracy = 0.643\n",
      "Epoch 86, CIFAR-10 Batch 2:  loss = 0.027, validation accuracy = 0.657\n",
      "Epoch 86, CIFAR-10 Batch 3:  loss = 0.026, validation accuracy = 0.659\n",
      "Epoch 86, CIFAR-10 Batch 4:  loss = 0.023, validation accuracy = 0.660\n",
      "Epoch 86, CIFAR-10 Batch 5:  loss = 0.024, validation accuracy = 0.657\n",
      "Epoch 87, CIFAR-10 Batch 1:  loss = 0.031, validation accuracy = 0.639\n",
      "Epoch 87, CIFAR-10 Batch 2:  loss = 0.035, validation accuracy = 0.648\n",
      "Epoch 87, CIFAR-10 Batch 3:  loss = 0.032, validation accuracy = 0.650\n",
      "Epoch 87, CIFAR-10 Batch 4:  loss = 0.026, validation accuracy = 0.650\n",
      "Epoch 87, CIFAR-10 Batch 5:  loss = 0.031, validation accuracy = 0.652\n",
      "Epoch 88, CIFAR-10 Batch 1:  loss = 0.023, validation accuracy = 0.658\n",
      "Epoch 88, CIFAR-10 Batch 2:  loss = 0.023, validation accuracy = 0.656\n",
      "Epoch 88, CIFAR-10 Batch 3:  loss = 0.023, validation accuracy = 0.658\n",
      "Epoch 88, CIFAR-10 Batch 4:  loss = 0.021, validation accuracy = 0.655\n",
      "Epoch 88, CIFAR-10 Batch 5:  loss = 0.023, validation accuracy = 0.661\n",
      "Epoch 89, CIFAR-10 Batch 1:  loss = 0.020, validation accuracy = 0.661\n",
      "Epoch 89, CIFAR-10 Batch 2:  loss = 0.018, validation accuracy = 0.664\n",
      "Epoch 89, CIFAR-10 Batch 3:  loss = 0.023, validation accuracy = 0.650\n",
      "Epoch 89, CIFAR-10 Batch 4:  loss = 0.021, validation accuracy = 0.652\n",
      "Epoch 89, CIFAR-10 Batch 5:  loss = 0.026, validation accuracy = 0.647\n",
      "Epoch 90, CIFAR-10 Batch 1:  loss = 0.023, validation accuracy = 0.660\n",
      "Epoch 90, CIFAR-10 Batch 2:  loss = 0.017, validation accuracy = 0.665\n",
      "Epoch 90, CIFAR-10 Batch 3:  loss = 0.017, validation accuracy = 0.661\n",
      "Epoch 90, CIFAR-10 Batch 4:  loss = 0.014, validation accuracy = 0.662\n",
      "Epoch 90, CIFAR-10 Batch 5:  loss = 0.021, validation accuracy = 0.655\n",
      "Epoch 91, CIFAR-10 Batch 1:  loss = 0.020, validation accuracy = 0.661\n",
      "Epoch 91, CIFAR-10 Batch 2:  loss = 0.017, validation accuracy = 0.663\n",
      "Epoch 91, CIFAR-10 Batch 3:  loss = 0.015, validation accuracy = 0.661\n",
      "Epoch 91, CIFAR-10 Batch 4:  loss = 0.013, validation accuracy = 0.666\n",
      "Epoch 91, CIFAR-10 Batch 5:  loss = 0.018, validation accuracy = 0.656\n",
      "Epoch 92, CIFAR-10 Batch 1:  loss = 0.019, validation accuracy = 0.662\n",
      "Epoch 92, CIFAR-10 Batch 2:  loss = 0.019, validation accuracy = 0.656\n",
      "Epoch 92, CIFAR-10 Batch 3:  loss = 0.014, validation accuracy = 0.661\n",
      "Epoch 92, CIFAR-10 Batch 4:  loss = 0.014, validation accuracy = 0.665\n",
      "Epoch 92, CIFAR-10 Batch 5:  loss = 0.017, validation accuracy = 0.656\n",
      "Epoch 93, CIFAR-10 Batch 1:  loss = 0.021, validation accuracy = 0.667\n",
      "Epoch 93, CIFAR-10 Batch 2:  loss = 0.017, validation accuracy = 0.658\n",
      "Epoch 93, CIFAR-10 Batch 3:  loss = 0.019, validation accuracy = 0.651\n",
      "Epoch 93, CIFAR-10 Batch 4:  loss = 0.013, validation accuracy = 0.661\n",
      "Epoch 93, CIFAR-10 Batch 5:  loss = 0.017, validation accuracy = 0.658\n",
      "Epoch 94, CIFAR-10 Batch 1:  loss = 0.019, validation accuracy = 0.663\n",
      "Epoch 94, CIFAR-10 Batch 2:  loss = 0.014, validation accuracy = 0.663\n",
      "Epoch 94, CIFAR-10 Batch 3:  loss = 0.014, validation accuracy = 0.658\n",
      "Epoch 94, CIFAR-10 Batch 4:  loss = 0.012, validation accuracy = 0.661\n",
      "Epoch 94, CIFAR-10 Batch 5:  loss = 0.015, validation accuracy = 0.659\n",
      "Epoch 95, CIFAR-10 Batch 1:  loss = 0.015, validation accuracy = 0.668\n",
      "Epoch 95, CIFAR-10 Batch 2:  loss = 0.014, validation accuracy = 0.663\n",
      "Epoch 95, CIFAR-10 Batch 3:  loss = 0.014, validation accuracy = 0.657\n",
      "Epoch 95, CIFAR-10 Batch 4:  loss = 0.011, validation accuracy = 0.663\n",
      "Epoch 95, CIFAR-10 Batch 5:  loss = 0.013, validation accuracy = 0.664\n",
      "Epoch 96, CIFAR-10 Batch 1:  loss = 0.015, validation accuracy = 0.665\n",
      "Epoch 96, CIFAR-10 Batch 2:  loss = 0.013, validation accuracy = 0.663\n",
      "Epoch 96, CIFAR-10 Batch 3:  loss = 0.013, validation accuracy = 0.665\n",
      "Epoch 96, CIFAR-10 Batch 4:  loss = 0.009, validation accuracy = 0.674\n",
      "Epoch 96, CIFAR-10 Batch 5:  loss = 0.012, validation accuracy = 0.662\n",
      "Epoch 97, CIFAR-10 Batch 1:  loss = 0.016, validation accuracy = 0.669\n",
      "Epoch 97, CIFAR-10 Batch 2:  loss = 0.014, validation accuracy = 0.665\n",
      "Epoch 97, CIFAR-10 Batch 3:  loss = 0.013, validation accuracy = 0.663\n",
      "Epoch 97, CIFAR-10 Batch 4:  loss = 0.008, validation accuracy = 0.672\n",
      "Epoch 97, CIFAR-10 Batch 5:  loss = 0.012, validation accuracy = 0.665\n",
      "Epoch 98, CIFAR-10 Batch 1:  loss = 0.014, validation accuracy = 0.667\n",
      "Epoch 98, CIFAR-10 Batch 2:  loss = 0.012, validation accuracy = 0.663\n",
      "Epoch 98, CIFAR-10 Batch 3:  loss = 0.012, validation accuracy = 0.661\n",
      "Epoch 98, CIFAR-10 Batch 4:  loss = 0.008, validation accuracy = 0.668\n",
      "Epoch 98, CIFAR-10 Batch 5:  loss = 0.010, validation accuracy = 0.663\n",
      "Epoch 99, CIFAR-10 Batch 1:  loss = 0.014, validation accuracy = 0.669\n",
      "Epoch 99, CIFAR-10 Batch 2:  loss = 0.012, validation accuracy = 0.669\n",
      "Epoch 99, CIFAR-10 Batch 3:  loss = 0.012, validation accuracy = 0.658\n",
      "Epoch 99, CIFAR-10 Batch 4:  loss = 0.010, validation accuracy = 0.668\n",
      "Epoch 99, CIFAR-10 Batch 5:  loss = 0.012, validation accuracy = 0.660\n",
      "Epoch 100, CIFAR-10 Batch 1:  loss = 0.013, validation accuracy = 0.666\n",
      "Epoch 100, CIFAR-10 Batch 2:  loss = 0.011, validation accuracy = 0.665\n",
      "Epoch 100, CIFAR-10 Batch 3:  loss = 0.011, validation accuracy = 0.666\n",
      "Epoch 100, CIFAR-10 Batch 4:  loss = 0.008, validation accuracy = 0.667\n",
      "Epoch 100, CIFAR-10 Batch 5:  loss = 0.010, validation accuracy = 0.662\n"
     ]
    }
   ],
   "source": [
    "\"\"\"\n",
    "DON'T MODIFY ANYTHING IN THIS CELL\n",
    "\"\"\"\n",
    "save_model_path = './image_classification'\n",
    "\n",
    "print('Training...')\n",
    "with tf.Session() as sess:\n",
    "    # Initializing the variables\n",
    "    sess.run(tf.global_variables_initializer())\n",
    "    \n",
    "    # Training cycle\n",
    "    for epoch in range(epochs):\n",
    "        # Loop over all batches\n",
    "        n_batches = 5\n",
    "        for batch_i in range(1, n_batches + 1):\n",
    "            for batch_features, batch_labels in helper.load_preprocess_training_batch(batch_i, batch_size):\n",
    "                train_neural_network(sess, optimizer, keep_probability, batch_features, batch_labels)\n",
    "            print('Epoch {:>2}, CIFAR-10 Batch {}:  '.format(epoch + 1, batch_i), end='')\n",
    "            print_stats(sess, batch_features, batch_labels, cost, accuracy)\n",
    "            \n",
    "    # Save Model\n",
    "    saver = tf.train.Saver()\n",
    "    save_path = saver.save(sess, save_model_path)"
   ]
  },
  {
   "cell_type": "markdown",
   "metadata": {
    "deletable": true,
    "editable": true
   },
   "source": [
    "# Checkpoint\n",
    "The model has been saved to disk.\n",
    "## Test Model\n",
    "Test your model against the test dataset.  This will be your final accuracy. You should have an accuracy greater than 50%. If you don't, keep tweaking the model architecture and parameters."
   ]
  },
  {
   "cell_type": "code",
   "execution_count": 18,
   "metadata": {
    "collapsed": false,
    "deletable": true,
    "editable": true
   },
   "outputs": [
    {
     "name": "stdout",
     "output_type": "stream",
     "text": [
      "Testing Accuracy: 0.6621456742286682\n",
      "\n"
     ]
    },
    {
     "data": {
      "image/png": "[encoded data removed]",
      "text/plain": [
       "<matplotlib.figure.Figure at 0x7f0670503e10>"
      ]
     },
     "metadata": {
      "image/png": {
       "height": 319,
       "width": 355
      }
     },
     "output_type": "display_data"
    }
   ],
   "source": [
    "\"\"\"\n",
    "DON'T MODIFY ANYTHING IN THIS CELL\n",
    "\"\"\"\n",
    "%matplotlib inline\n",
    "%config InlineBackend.figure_format = 'retina'\n",
    "\n",
    "import tensorflow as tf\n",
    "import pickle\n",
    "import helper\n",
    "import random\n",
    "\n",
    "# Set batch size if not already set\n",
    "try:\n",
    "    if batch_size:\n",
    "        pass\n",
    "except NameError:\n",
    "    batch_size = 64\n",
    "\n",
    "save_model_path = './image_classification'\n",
    "n_samples = 4\n",
    "top_n_predictions = 3\n",
    "\n",
    "def test_model():\n",
    "    \"\"\"\n",
    "    Test the saved model against the test dataset\n",
    "    \"\"\"\n",
    "\n",
    "    test_features, test_labels = pickle.load(open('preprocess_training.p', mode='rb'))\n",
    "    loaded_graph = tf.Graph()\n",
    "\n",
    "    with tf.Session(graph=loaded_graph) as sess:\n",
    "        # Load model\n",
    "        loader = tf.train.import_meta_graph(save_model_path + '.meta')\n",
    "        loader.restore(sess, save_model_path)\n",
    "\n",
    "        # Get Tensors from loaded model\n",
    "        loaded_x = loaded_graph.get_tensor_by_name('x:0')\n",
    "        loaded_y = loaded_graph.get_tensor_by_name('y:0')\n",
    "        loaded_keep_prob = loaded_graph.get_tensor_by_name('keep_prob:0')\n",
    "        loaded_logits = loaded_graph.get_tensor_by_name('logits:0')\n",
    "        loaded_acc = loaded_graph.get_tensor_by_name('accuracy:0')\n",
    "        \n",
    "        # Get accuracy in batches for memory limitations\n",
    "        test_batch_acc_total = 0\n",
    "        test_batch_count = 0\n",
    "        \n",
    "        for train_feature_batch, train_label_batch in helper.batch_features_labels(test_features, test_labels, batch_size):\n",
    "            test_batch_acc_total += sess.run(\n",
    "                loaded_acc,\n",
    "                feed_dict={loaded_x: train_feature_batch, loaded_y: train_label_batch, loaded_keep_prob: 1.0})\n",
    "            test_batch_count += 1\n",
    "\n",
    "        print('Testing Accuracy: {}\\n'.format(test_batch_acc_total/test_batch_count))\n",
    "\n",
    "        # Print Random Samples\n",
    "        random_test_features, random_test_labels = tuple(zip(*random.sample(list(zip(test_features, test_labels)), n_samples)))\n",
    "        random_test_predictions = sess.run(\n",
    "            tf.nn.top_k(tf.nn.softmax(loaded_logits), top_n_predictions),\n",
    "            feed_dict={loaded_x: random_test_features, loaded_y: random_test_labels, loaded_keep_prob: 1.0})\n",
    "        helper.display_image_predictions(random_test_features, random_test_labels, random_test_predictions)\n",
    "\n",
    "\n",
    "test_model()"
   ]
  },
  {
   "cell_type": "markdown",
   "metadata": {
    "deletable": true,
    "editable": true
   },
   "source": [
    "## Why 50-70% Accuracy?\n",
    "You might be wondering why you can't get an accuracy any higher. First things first, 50% isn't bad for a simple CNN.  Pure guessing would get you 10% accuracy. However, you might notice people are getting scores [well above 70%](http://rodrigob.github.io/are_we_there_yet/build/classification_datasets_results.html#43494641522d3130).  That's because we haven't taught you all there is to know about neural networks. We still need to cover a few more techniques.\n",
    "## Submitting This Project\n",
    "When submitting this project, make sure to run all the cells before saving the notebook.  Save the notebook file as \"dlnd_image_classification.ipynb\" and save it as a HTML file under \"File\" -> \"Download as\".  Include the \"helper.py\" and \"problem_unittests.py\" files in your submission."
   ]
  }
 ],
 "metadata": {
  "anaconda-cloud": {},
  "kernelspec": {
   "display_name": "Python [default]",
   "language": "python",
   "name": "python3"
  },
  "language_info": {
   "codemirror_mode": {
    "name": "ipython",
    "version": 3
   },
   "file_extension": ".py",
   "mimetype": "text/x-python",
   "name": "python",
   "nbconvert_exporter": "python",
   "pygments_lexer": "ipython3",
   "version": "3.5.2"
  }
 },
 "nbformat": 4,
 "nbformat_minor": 0
}
